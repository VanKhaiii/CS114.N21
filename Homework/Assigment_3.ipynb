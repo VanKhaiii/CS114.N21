{
  "cells": [
    {
      "cell_type": "markdown",
      "metadata": {
        "id": "7ZCrBp-Kv4KQ"
      },
      "source": [
        "- Thành Viên Nhóm:\n",
        "1. Trương Văn Khải - 21520274\n",
        "2. Đoàn Nhật Sang - 21522542\n",
        "3. Đặng Phước Sang - 21521377\n",
        "\n",
        "# **Sarcasm Detection**\n",
        "\n",
        "1. Mô tả bài toán: Input: 1 headline của 1 bài báo Output: headline châm biếm hoặc không châm biếm\n",
        "2. Cách thu thập dữ liệu của nhóm: Thu thập các headlines từ 2 trang web: nhandan.vn (chính thống) và cuoi.tuoitre.vn (châm biếm).\n",
        "  * nhandan.vn: trang báo chuyên về các tin tức chính thống\n",
        "  * cuoi.tuoitre.vn: trang báo chuyên về các tin châm biếm\n",
        "3. Dữ liệu train, test\n",
        "* Training Dataset: sử dụng data tự tổng hợp từ tất cả các nhóm trong lớp\n",
        "  * Dataset: gồm 2 feature chính\n",
        "      * headline: tiêu đề bài báo\n",
        "      * is_sacastic: 1: châm biếm và 0: không châm biếm\n",
        "* Testing Dataset: sử dụng data tự tổng hợp từ tất cả các nhóm trong lớp\n"
      ]
    },
    {
      "cell_type": "code",
      "execution_count": null,
      "metadata": {
        "colab": {
          "base_uri": "https://localhost:8080/"
        },
        "id": "HMs3-hATy5HA",
        "outputId": "0dd34572-9a61-42e8-b13d-6eb2f4c3fcb4"
      },
      "outputs": [
        {
          "output_type": "stream",
          "name": "stdout",
          "text": [
            "Collecting transformers\n",
            "  Downloading transformers-4.30.2-py3-none-any.whl (7.2 MB)\n",
            "\u001b[2K     \u001b[90m━━━━━━━━━━━━━━━━━━━━━━━━━━━━━━━━━━━━━━━━\u001b[0m \u001b[32m7.2/7.2 MB\u001b[0m \u001b[31m62.2 MB/s\u001b[0m eta \u001b[36m0:00:00\u001b[0m\n",
            "\u001b[?25hRequirement already satisfied: filelock in /usr/local/lib/python3.10/dist-packages (from transformers) (3.12.2)\n",
            "Collecting huggingface-hub<1.0,>=0.14.1 (from transformers)\n",
            "  Downloading huggingface_hub-0.15.1-py3-none-any.whl (236 kB)\n",
            "\u001b[2K     \u001b[90m━━━━━━━━━━━━━━━━━━━━━━━━━━━━━━━━━━━━━━\u001b[0m \u001b[32m236.8/236.8 kB\u001b[0m \u001b[31m32.8 MB/s\u001b[0m eta \u001b[36m0:00:00\u001b[0m\n",
            "\u001b[?25hRequirement already satisfied: numpy>=1.17 in /usr/local/lib/python3.10/dist-packages (from transformers) (1.22.4)\n",
            "Requirement already satisfied: packaging>=20.0 in /usr/local/lib/python3.10/dist-packages (from transformers) (23.1)\n",
            "Requirement already satisfied: pyyaml>=5.1 in /usr/local/lib/python3.10/dist-packages (from transformers) (6.0)\n",
            "Requirement already satisfied: regex!=2019.12.17 in /usr/local/lib/python3.10/dist-packages (from transformers) (2022.10.31)\n",
            "Requirement already satisfied: requests in /usr/local/lib/python3.10/dist-packages (from transformers) (2.27.1)\n",
            "Collecting tokenizers!=0.11.3,<0.14,>=0.11.1 (from transformers)\n",
            "  Downloading tokenizers-0.13.3-cp310-cp310-manylinux_2_17_x86_64.manylinux2014_x86_64.whl (7.8 MB)\n",
            "\u001b[2K     \u001b[90m━━━━━━━━━━━━━━━━━━━━━━━━━━━━━━━━━━━━━━━━\u001b[0m \u001b[32m7.8/7.8 MB\u001b[0m \u001b[31m73.5 MB/s\u001b[0m eta \u001b[36m0:00:00\u001b[0m\n",
            "\u001b[?25hCollecting safetensors>=0.3.1 (from transformers)\n",
            "  Downloading safetensors-0.3.1-cp310-cp310-manylinux_2_17_x86_64.manylinux2014_x86_64.whl (1.3 MB)\n",
            "\u001b[2K     \u001b[90m━━━━━━━━━━━━━━━━━━━━━━━━━━━━━━━━━━━━━━━━\u001b[0m \u001b[32m1.3/1.3 MB\u001b[0m \u001b[31m88.7 MB/s\u001b[0m eta \u001b[36m0:00:00\u001b[0m\n",
            "\u001b[?25hRequirement already satisfied: tqdm>=4.27 in /usr/local/lib/python3.10/dist-packages (from transformers) (4.65.0)\n",
            "Requirement already satisfied: fsspec in /usr/local/lib/python3.10/dist-packages (from huggingface-hub<1.0,>=0.14.1->transformers) (2023.6.0)\n",
            "Requirement already satisfied: typing-extensions>=3.7.4.3 in /usr/local/lib/python3.10/dist-packages (from huggingface-hub<1.0,>=0.14.1->transformers) (4.6.3)\n",
            "Requirement already satisfied: urllib3<1.27,>=1.21.1 in /usr/local/lib/python3.10/dist-packages (from requests->transformers) (1.26.16)\n",
            "Requirement already satisfied: certifi>=2017.4.17 in /usr/local/lib/python3.10/dist-packages (from requests->transformers) (2023.5.7)\n",
            "Requirement already satisfied: charset-normalizer~=2.0.0 in /usr/local/lib/python3.10/dist-packages (from requests->transformers) (2.0.12)\n",
            "Requirement already satisfied: idna<4,>=2.5 in /usr/local/lib/python3.10/dist-packages (from requests->transformers) (3.4)\n",
            "Installing collected packages: tokenizers, safetensors, huggingface-hub, transformers\n",
            "Successfully installed huggingface-hub-0.15.1 safetensors-0.3.1 tokenizers-0.13.3 transformers-4.30.2\n"
          ]
        }
      ],
      "source": [
        "!pip install transformers"
      ]
    },
    {
      "cell_type": "markdown",
      "metadata": {
        "id": "FEQUTnWgx-g7"
      },
      "source": [
        "# **Import các thư viện cần thiết**"
      ]
    },
    {
      "cell_type": "code",
      "execution_count": null,
      "metadata": {
        "id": "8gLfTqy09cH3"
      },
      "outputs": [],
      "source": [
        "import torch\n",
        "import numpy as np\n",
        "import pandas as pd\n",
        "import seaborn as sns\n",
        "import matplotlib.pyplot as plt\n",
        "\n",
        "from gensim.utils import simple_preprocess\n",
        "from sklearn.model_selection import StratifiedKFold\n",
        "from sklearn.metrics import classification_report, confusion_matrix\n",
        "\n",
        "import torch.nn as nn\n",
        "from torch.optim import AdamW\n",
        "from torch.utils.data import Dataset, DataLoader\n",
        "\n",
        "from transformers import get_linear_schedule_with_warmup, AutoTokenizer, AutoModel, logging\n",
        "\n",
        "import warnings\n",
        "warnings.filterwarnings(\"ignore\")\n",
        "\n",
        "logging.set_verbosity_error()"
      ]
    },
    {
      "cell_type": "markdown",
      "metadata": {
        "id": "6ZF7AA0UyFOj"
      },
      "source": [
        "# **Lấy dataset trên github các nhóm**"
      ]
    },
    {
      "cell_type": "code",
      "execution_count": null,
      "metadata": {
        "colab": {
          "base_uri": "https://localhost:8080/"
        },
        "id": "O5JvEZokAt2_",
        "outputId": "99472f84-e4b0-4caa-fd9a-a8f25247140a"
      },
      "outputs": [
        {
          "output_type": "stream",
          "name": "stdout",
          "text": [
            "https://raw.githubusercontent.com/uyenbhku/CS114.N21/main/sarcasm_detection_dataset/NSFW.json\n",
            "https://raw.githubusercontent.com/tqnghia210/CS114/main/data_ne.json\n",
            "https://raw.githubusercontent.com/Quan-Minh/CS114/main/sarcasm_detection_dataset.json\n",
            "https://raw.githubusercontent.com/Tlon9/CS114/main/sarcasm_detection_dataset.json\n",
            "<class 'pandas.core.frame.DataFrame'>\n",
            "Int64Index: 10143 entries, 0 to 454\n",
            "Data columns (total 3 columns):\n",
            " #   Column        Non-Null Count  Dtype \n",
            "---  ------        --------------  ----- \n",
            " 0   headline      10143 non-null  object\n",
            " 1   article_link  6683 non-null   object\n",
            " 2   is_sarcastic  10143 non-null  object\n",
            "dtypes: object(3)\n",
            "memory usage: 317.0+ KB\n"
          ]
        }
      ],
      "source": [
        "import json\n",
        "import requests\n",
        "import matplotlib.pyplot as plt\n",
        "\n",
        "datalist = [\n",
        "    'https://raw.githubusercontent.com/uyenbhku/CS114.N21/main/sarcasm_detection_dataset/NSFW.json',\n",
        "    'https://raw.githubusercontent.com/ngcthc/CS114-ML-Public/main/sarcasm_detection_dataset.json',\n",
        "    'https://raw.githubusercontent.com/Kuma221203/CS114/main/sarcasm_detection_dataset.json',\n",
        "    'https://raw.githubusercontent.com/dnsang1611/CS114.N21-KHNT/master/sarcasm_detection_dataset.json',\n",
        "    'https://raw.githubusercontent.com/tqnghia210/CS114/main/data_ne.json',\n",
        "    'https://raw.githubusercontent.com/Quan-Minh/CS114/main/sarcasm_detection_dataset.json',\n",
        "    'https://raw.githubusercontent.com/npk7264/CS114/main/sarcasm_detection_dataset.json',\n",
        "    'https://raw.githubusercontent.com/Tlon9/CS114/main/sarcasm_detection_dataset.json',\n",
        "    'https://raw.githubusercontent.com/TruongNoDame/Sarcasm-Detection/main/sarcasm_detection_dataset.json',\n",
        "    'https://raw.githubusercontent.com/HungStark/sarcasm_detection_dataset/main/sarcasm_detection_dataset.json',\n",
        "    'https://raw.githubusercontent.com/KiRzEa/CS114/main/SarcasmData/SarcasmData.json',\n",
        "    'https://raw.githubusercontent.com/phongidoit/CS114/main/sarcasm_detection_dataset.json'\n",
        "]\n",
        "\n",
        "dataset = pd.DataFrame(columns = ['headline', 'article_link', 'is_sarcastic'])\n",
        "\n",
        "# print(dataset)\n",
        "for url in datalist:\n",
        "  try:\n",
        "    resp = requests.get(url)\n",
        "    data = json.loads(resp.text)\n",
        "    df = pd.json_normalize(data)\n",
        "    df = df.rename(columns={'title':'headline', 'is_sarcasm': 'is_sarcastic'})\n",
        "    dataset = pd.concat([dataset, df], axis=0)\n",
        "    # print(url +' length: '+  str(len(data)))\n",
        "  except:\n",
        "    print(url)\n",
        "    resp = requests.get(url)\n",
        "    if url in ['https://raw.githubusercontent.com/Tlon9/CS114/main/sarcasm_detection_dataset.json', 'https://raw.githubusercontent.com/uyenbhku/CS114.N21/main/sarcasm_detection_dataset/NSFW.json', 'https://raw.githubusercontent.com/Quan-Minh/CS114/main/sarcasm_detection_dataset.json']:\n",
        "      data = '['\n",
        "      for sample in resp.text.split('\\n'):\n",
        "        sample = sample.strip()\n",
        "        if sample != '':\n",
        "          data += sample + ','\n",
        "      data = data[:-1] + ']'\n",
        "    else:\n",
        "      data = '[' + resp.text + ']'\n",
        "    data = json.loads(data)\n",
        "    df = pd.json_normalize(data)\n",
        "    df = df.rename(columns={'title':'headline', 'is_sarcasm': 'is_sarcastic'})\n",
        "    dataset = pd.concat([dataset, df], axis=0)\n",
        "\n",
        "dataset.info()"
      ]
    },
    {
      "cell_type": "code",
      "execution_count": null,
      "metadata": {
        "id": "ZTPLdp9FIm-m"
      },
      "outputs": [],
      "source": [
        "# Bỏ cột article_link\n",
        "dataset = dataset.drop(['article_link'], axis=1)\n",
        "\n",
        "# Lọc bỏ các sample trùng\n",
        "dataset = dataset.drop_duplicates()\n",
        "\n",
        "dataset.reset_index(inplace=True)\n",
        "dataset.drop('index', axis=1, inplace=True)\n",
        "dataset.is_sarcastic = dataset.is_sarcastic.astype(np.int32)"
      ]
    },
    {
      "cell_type": "markdown",
      "source": [
        "Word segment cho headline"
      ],
      "metadata": {
        "id": "nYkAVcRywd8x"
      }
    },
    {
      "cell_type": "code",
      "execution_count": null,
      "metadata": {
        "colab": {
          "base_uri": "https://localhost:8080/"
        },
        "id": "pYXBpGvbvNto",
        "outputId": "863c9425-5cb2-4184-c5ec-bf0228ac7012"
      },
      "outputs": [
        {
          "output_type": "stream",
          "name": "stdout",
          "text": [
            "Collecting py_vncorenlp\n",
            "  Downloading py_vncorenlp-0.1.4.tar.gz (3.9 kB)\n",
            "  Preparing metadata (setup.py) ... \u001b[?25l\u001b[?25hdone\n",
            "Collecting pyjnius (from py_vncorenlp)\n",
            "  Downloading pyjnius-1.5.0-cp310-cp310-manylinux_2_17_x86_64.manylinux2014_x86_64.whl (1.4 MB)\n",
            "\u001b[2K     \u001b[90m━━━━━━━━━━━━━━━━━━━━━━━━━━━━━━━━━━━━━━━━\u001b[0m \u001b[32m1.4/1.4 MB\u001b[0m \u001b[31m39.8 MB/s\u001b[0m eta \u001b[36m0:00:00\u001b[0m\n",
            "\u001b[?25hBuilding wheels for collected packages: py_vncorenlp\n",
            "  Building wheel for py_vncorenlp (setup.py) ... \u001b[?25l\u001b[?25hdone\n",
            "  Created wheel for py_vncorenlp: filename=py_vncorenlp-0.1.4-py3-none-any.whl size=4305 sha256=e47945f3ba2a7f804a57282559ee405e0e73a25d88378c3331179828e916e55d\n",
            "  Stored in directory: /root/.cache/pip/wheels/d5/d9/bf/62632cdb007c702a0664091e92a0bb1f18a2fcecbe962d9827\n",
            "Successfully built py_vncorenlp\n",
            "Installing collected packages: pyjnius, py_vncorenlp\n",
            "Successfully installed py_vncorenlp-0.1.4 pyjnius-1.5.0\n"
          ]
        }
      ],
      "source": [
        "!pip install py_vncorenlp"
      ]
    },
    {
      "cell_type": "code",
      "execution_count": null,
      "metadata": {
        "id": "wBnCZyTXnixd",
        "colab": {
          "base_uri": "https://localhost:8080/"
        },
        "outputId": "27615faa-539d-46bb-91fa-f6d6e48841c4"
      },
      "outputs": [
        {
          "output_type": "stream",
          "name": "stdout",
          "text": [
            "['Ông Nguyễn_Khắc_Chúc đang làm_việc tại Đại_học Quốc_gia Hà_Nội .', 'Bà Lan , vợ ông Chúc , cũng làm_việc tại đây .']\n"
          ]
        }
      ],
      "source": [
        "import py_vncorenlp\n",
        "\n",
        "# Automatically download VnCoreNLP components from the original repository\n",
        "# and save them in some local machine folder\n",
        "py_vncorenlp.download_model(save_dir='./')\n",
        "\n",
        "# Load the word and sentence segmentation component\n",
        "rdrsegmenter = py_vncorenlp.VnCoreNLP(annotators=[\"wseg\"], save_dir='./')\n",
        "# ['Ông Nguyễn_Khắc_Chúc đang làm_việc tại Đại_học Quốc_gia Hà_Nội .', 'Bà Lan , vợ ông Chúc , cũng làm_việc tại đây .']\n",
        "\n",
        "text = \"Ông Nguyễn Khắc Chúc  đang làm việc tại Đại học Quốc gia Hà Nội. Bà Lan, vợ ông Chúc, cũng làm việc tại đây.\"\n",
        "\n",
        "output = rdrsegmenter.word_segment(text)\n",
        "\n",
        "print(output)"
      ]
    },
    {
      "cell_type": "code",
      "execution_count": null,
      "metadata": {
        "colab": {
          "base_uri": "https://localhost:8080/"
        },
        "id": "hSEBVvYKnjqv",
        "outputId": "fd7227cc-99b4-4d7f-9f59-6d8f9945d3d8"
      },
      "outputs": [
        {
          "output_type": "stream",
          "name": "stdout",
          "text": [
            "[424, 466]\n"
          ]
        }
      ],
      "source": [
        "# Word segmentation cho dataset\n",
        "failed_indices = []\n",
        "for i in range(dataset.shape[0]):\n",
        "  text  = dataset.iloc[i]['headline'].strip()\n",
        "  # Kiểm tra xem headline có phải rỗng không?\n",
        "  if text != '':\n",
        "      dataset.at[i, 'headline'] = ''.join(rdrsegmenter.word_segment(text))\n",
        "  else:\n",
        "    failed_indices.append(dataset.iloc[i].name)\n",
        "\n",
        "# Bỏ những sample có trường headline trống.\n",
        "if (failed_indices):\n",
        "  print(failed_indices)\n",
        "  dataset = dataset.drop(failed_indices, axis=0)"
      ]
    },
    {
      "cell_type": "markdown",
      "metadata": {
        "id": "FGc0kSoIyzmk"
      },
      "source": [
        "## **EDA**"
      ]
    },
    {
      "cell_type": "code",
      "execution_count": null,
      "metadata": {
        "id": "9fxSeM64sKo2",
        "colab": {
          "base_uri": "https://localhost:8080/",
          "height": 362
        },
        "outputId": "8bd86ec0-e02c-4df6-d719-d434f4dec87a"
      },
      "outputs": [
        {
          "output_type": "stream",
          "name": "stdout",
          "text": [
            "<class 'pandas.core.frame.DataFrame'>\n",
            "Int64Index: 9208 entries, 0 to 9209\n",
            "Data columns (total 2 columns):\n",
            " #   Column        Non-Null Count  Dtype \n",
            "---  ------        --------------  ----- \n",
            " 0   headline      9208 non-null   object\n",
            " 1   is_sarcastic  9208 non-null   int32 \n",
            "dtypes: int32(1), object(1)\n",
            "memory usage: 179.8+ KB\n"
          ]
        },
        {
          "output_type": "execute_result",
          "data": {
            "text/plain": [
              "                                            headline  is_sarcastic\n",
              "0   Nhà Chuột bị chê phá nát tuổi_thơ của bao thế_hệ             1\n",
              "1  Đến lượt công_chúa tóc_mây Disney có bản người...             1\n",
              "2  Chế_giễu ngoại_hình từ câu_chuyện về nàng tiên...             1\n",
              "3  Lãnh_Thanh bị chê diễn đơ trong Nơi Giấc_Mơ_Tì...             1\n",
              "4      Nhân_vật vô_lý nhất phim Cuộc_Đời Vẫn Đẹp_Sao             1"
            ],
            "text/html": [
              "\n",
              "  <div id=\"df-2a1a4198-461a-4537-86c5-24495f4a664f\">\n",
              "    <div class=\"colab-df-container\">\n",
              "      <div>\n",
              "<style scoped>\n",
              "    .dataframe tbody tr th:only-of-type {\n",
              "        vertical-align: middle;\n",
              "    }\n",
              "\n",
              "    .dataframe tbody tr th {\n",
              "        vertical-align: top;\n",
              "    }\n",
              "\n",
              "    .dataframe thead th {\n",
              "        text-align: right;\n",
              "    }\n",
              "</style>\n",
              "<table border=\"1\" class=\"dataframe\">\n",
              "  <thead>\n",
              "    <tr style=\"text-align: right;\">\n",
              "      <th></th>\n",
              "      <th>headline</th>\n",
              "      <th>is_sarcastic</th>\n",
              "    </tr>\n",
              "  </thead>\n",
              "  <tbody>\n",
              "    <tr>\n",
              "      <th>0</th>\n",
              "      <td>Nhà Chuột bị chê phá nát tuổi_thơ của bao thế_hệ</td>\n",
              "      <td>1</td>\n",
              "    </tr>\n",
              "    <tr>\n",
              "      <th>1</th>\n",
              "      <td>Đến lượt công_chúa tóc_mây Disney có bản người...</td>\n",
              "      <td>1</td>\n",
              "    </tr>\n",
              "    <tr>\n",
              "      <th>2</th>\n",
              "      <td>Chế_giễu ngoại_hình từ câu_chuyện về nàng tiên...</td>\n",
              "      <td>1</td>\n",
              "    </tr>\n",
              "    <tr>\n",
              "      <th>3</th>\n",
              "      <td>Lãnh_Thanh bị chê diễn đơ trong Nơi Giấc_Mơ_Tì...</td>\n",
              "      <td>1</td>\n",
              "    </tr>\n",
              "    <tr>\n",
              "      <th>4</th>\n",
              "      <td>Nhân_vật vô_lý nhất phim Cuộc_Đời Vẫn Đẹp_Sao</td>\n",
              "      <td>1</td>\n",
              "    </tr>\n",
              "  </tbody>\n",
              "</table>\n",
              "</div>\n",
              "      <button class=\"colab-df-convert\" onclick=\"convertToInteractive('df-2a1a4198-461a-4537-86c5-24495f4a664f')\"\n",
              "              title=\"Convert this dataframe to an interactive table.\"\n",
              "              style=\"display:none;\">\n",
              "        \n",
              "  <svg xmlns=\"http://www.w3.org/2000/svg\" height=\"24px\"viewBox=\"0 0 24 24\"\n",
              "       width=\"24px\">\n",
              "    <path d=\"M0 0h24v24H0V0z\" fill=\"none\"/>\n",
              "    <path d=\"M18.56 5.44l.94 2.06.94-2.06 2.06-.94-2.06-.94-.94-2.06-.94 2.06-2.06.94zm-11 1L8.5 8.5l.94-2.06 2.06-.94-2.06-.94L8.5 2.5l-.94 2.06-2.06.94zm10 10l.94 2.06.94-2.06 2.06-.94-2.06-.94-.94-2.06-.94 2.06-2.06.94z\"/><path d=\"M17.41 7.96l-1.37-1.37c-.4-.4-.92-.59-1.43-.59-.52 0-1.04.2-1.43.59L10.3 9.45l-7.72 7.72c-.78.78-.78 2.05 0 2.83L4 21.41c.39.39.9.59 1.41.59.51 0 1.02-.2 1.41-.59l7.78-7.78 2.81-2.81c.8-.78.8-2.07 0-2.86zM5.41 20L4 18.59l7.72-7.72 1.47 1.35L5.41 20z\"/>\n",
              "  </svg>\n",
              "      </button>\n",
              "      \n",
              "  <style>\n",
              "    .colab-df-container {\n",
              "      display:flex;\n",
              "      flex-wrap:wrap;\n",
              "      gap: 12px;\n",
              "    }\n",
              "\n",
              "    .colab-df-convert {\n",
              "      background-color: #E8F0FE;\n",
              "      border: none;\n",
              "      border-radius: 50%;\n",
              "      cursor: pointer;\n",
              "      display: none;\n",
              "      fill: #1967D2;\n",
              "      height: 32px;\n",
              "      padding: 0 0 0 0;\n",
              "      width: 32px;\n",
              "    }\n",
              "\n",
              "    .colab-df-convert:hover {\n",
              "      background-color: #E2EBFA;\n",
              "      box-shadow: 0px 1px 2px rgba(60, 64, 67, 0.3), 0px 1px 3px 1px rgba(60, 64, 67, 0.15);\n",
              "      fill: #174EA6;\n",
              "    }\n",
              "\n",
              "    [theme=dark] .colab-df-convert {\n",
              "      background-color: #3B4455;\n",
              "      fill: #D2E3FC;\n",
              "    }\n",
              "\n",
              "    [theme=dark] .colab-df-convert:hover {\n",
              "      background-color: #434B5C;\n",
              "      box-shadow: 0px 1px 3px 1px rgba(0, 0, 0, 0.15);\n",
              "      filter: drop-shadow(0px 1px 2px rgba(0, 0, 0, 0.3));\n",
              "      fill: #FFFFFF;\n",
              "    }\n",
              "  </style>\n",
              "\n",
              "      <script>\n",
              "        const buttonEl =\n",
              "          document.querySelector('#df-2a1a4198-461a-4537-86c5-24495f4a664f button.colab-df-convert');\n",
              "        buttonEl.style.display =\n",
              "          google.colab.kernel.accessAllowed ? 'block' : 'none';\n",
              "\n",
              "        async function convertToInteractive(key) {\n",
              "          const element = document.querySelector('#df-2a1a4198-461a-4537-86c5-24495f4a664f');\n",
              "          const dataTable =\n",
              "            await google.colab.kernel.invokeFunction('convertToInteractive',\n",
              "                                                     [key], {});\n",
              "          if (!dataTable) return;\n",
              "\n",
              "          const docLinkHtml = 'Like what you see? Visit the ' +\n",
              "            '<a target=\"_blank\" href=https://colab.research.google.com/notebooks/data_table.ipynb>data table notebook</a>'\n",
              "            + ' to learn more about interactive tables.';\n",
              "          element.innerHTML = '';\n",
              "          dataTable['output_type'] = 'display_data';\n",
              "          await google.colab.output.renderOutput(dataTable, element);\n",
              "          const docLink = document.createElement('div');\n",
              "          docLink.innerHTML = docLinkHtml;\n",
              "          element.appendChild(docLink);\n",
              "        }\n",
              "      </script>\n",
              "    </div>\n",
              "  </div>\n",
              "  "
            ]
          },
          "metadata": {},
          "execution_count": 8
        }
      ],
      "source": [
        "dataset.info()\n",
        "dataset.head()"
      ]
    },
    {
      "cell_type": "markdown",
      "metadata": {
        "id": "WhnJnfKkzRIS"
      },
      "source": [
        "Dataset của mỗi nhóm sẽ có 2 hoặc 3 trường thông tin, gọi chung là headline, is_sarcastic, article_link. Vì nhóm không sử dụng trường article_link cho train model nên sẽ bỏ nó ra khỏi dataset.\n",
        "\n",
        "Sau khi lấy data về, tổng số sample là 10143 ==> Tiến hành lọc bỏ các sample trùng và các sample có trường headline rỗng.\n",
        "\n",
        "Tiến hành segment word trên dataset.\n",
        "\n",
        "Qua một vài bước xử lý nêu trên, dataset còn:\n",
        "* 2 cột: headline, is_sarcastic (0: không châm biếm, 1: châm biếm).\n",
        "* Số sample sau khi lọc trùng và các sample có headline rỗng là 9208."
      ]
    },
    {
      "cell_type": "markdown",
      "metadata": {
        "id": "SYMMP6_n1D4_"
      },
      "source": [
        "# **Phân chia tập dữ liệu cho train-val-test theo tỷ lệ 7:1:2**"
      ]
    },
    {
      "cell_type": "code",
      "execution_count": null,
      "metadata": {
        "id": "iUC09D3KJRX2"
      },
      "outputs": [],
      "source": [
        "from sklearn.model_selection import train_test_split\n",
        "train_df, test_df = train_test_split(dataset, test_size=0.3)\n",
        "valid_df, test_df = train_test_split(test_df, test_size=0.66)"
      ]
    },
    {
      "cell_type": "code",
      "execution_count": null,
      "metadata": {
        "id": "Crla3VreLx70",
        "colab": {
          "base_uri": "https://localhost:8080/",
          "height": 556
        },
        "outputId": "0e772ea9-988d-4034-b23e-61ba8042968f"
      },
      "outputs": [
        {
          "output_type": "stream",
          "name": "stdout",
          "text": [
            "=== train histogram ===\n",
            "label  #\n",
            "0    3924\n",
            "1    2521\n",
            "Name: is_sarcastic, dtype: int64\n"
          ]
        },
        {
          "output_type": "execute_result",
          "data": {
            "text/plain": [
              "array([[<Axes: title={'center': 'is_sarcastic'}>]], dtype=object)"
            ]
          },
          "metadata": {},
          "execution_count": 12
        },
        {
          "output_type": "display_data",
          "data": {
            "text/plain": [
              "<Figure size 640x480 with 1 Axes>"
            ],
            "image/png": "[encoded data removed]"
          },
          "metadata": {}
        }
      ],
      "source": [
        "print('=== train histogram ===')\n",
        "print('label  #')\n",
        "print(train_df.is_sarcastic.value_counts())\n",
        "train_df.hist()"
      ]
    },
    {
      "cell_type": "code",
      "execution_count": null,
      "metadata": {
        "id": "emp85PkOPXUg",
        "colab": {
          "base_uri": "https://localhost:8080/",
          "height": 556
        },
        "outputId": "c43a137a-b149-4b5f-84d3-df8ace37da59"
      },
      "outputs": [
        {
          "output_type": "stream",
          "name": "stdout",
          "text": [
            "=== val histogram ===\n",
            "label  #\n",
            "0    569\n",
            "1    370\n",
            "Name: is_sarcastic, dtype: int64\n"
          ]
        },
        {
          "output_type": "execute_result",
          "data": {
            "text/plain": [
              "array([[<Axes: title={'center': 'is_sarcastic'}>]], dtype=object)"
            ]
          },
          "metadata": {},
          "execution_count": 13
        },
        {
          "output_type": "display_data",
          "data": {
            "text/plain": [
              "<Figure size 640x480 with 1 Axes>"
            ],
            "image/png": "[encoded data removed]"
          },
          "metadata": {}
        }
      ],
      "source": [
        "print('=== val histogram ===')\n",
        "print('label  #')\n",
        "print(valid_df.is_sarcastic.value_counts())\n",
        "valid_df.hist()"
      ]
    },
    {
      "cell_type": "code",
      "execution_count": null,
      "metadata": {
        "id": "Iq7WwC-fPcR3",
        "colab": {
          "base_uri": "https://localhost:8080/",
          "height": 556
        },
        "outputId": "a76a3c7a-8bf5-45e3-97f7-f56bdfbaf237"
      },
      "outputs": [
        {
          "output_type": "stream",
          "name": "stdout",
          "text": [
            "=== test histogram ===\n",
            "label  #\n",
            "0    1124\n",
            "1     700\n",
            "Name: is_sarcastic, dtype: int64\n"
          ]
        },
        {
          "output_type": "execute_result",
          "data": {
            "text/plain": [
              "array([[<Axes: title={'center': 'is_sarcastic'}>]], dtype=object)"
            ]
          },
          "metadata": {},
          "execution_count": 14
        },
        {
          "output_type": "display_data",
          "data": {
            "text/plain": [
              "<Figure size 640x480 with 1 Axes>"
            ],
            "image/png": "[encoded data removed]"
          },
          "metadata": {}
        }
      ],
      "source": [
        "print('=== test histogram ===')\n",
        "print('label  #')\n",
        "print(test_df.is_sarcastic.value_counts())\n",
        "test_df.hist()"
      ]
    },
    {
      "cell_type": "markdown",
      "metadata": {
        "id": "cQjamDUt1UC1"
      },
      "source": [
        "# **I. Traning model: vinai/phobert-base**\n",
        "1. Segment word cho câu với vncorenlp\n",
        "2. Chỉnh chử hoa trong headline thành chữ thường.\n",
        "3. Dùng pretrained tokenizer ứng với phobert-base. Tokenizer sẽ segment câu thành các đơn vị subword, sử dụng từ điển có 64K subword types (Nguồn: https://aclanthology.org/2020.findings-emnlp.92.pdf). Sau đó chuyển text dưới dạng các subwords về dạng index trong từ điển và thực hiện một số thao tác khác được nêu cụ thể ở phần SentimentDataset.\n",
        "4. Sử dụng PhoBERT-base để chuyển mảng index này thành mảng các số đại diện cho câu.\n",
        "5. Sử dụng một fully connected layer để đưa ra dự đoán là 0 hoặc 1"
      ]
    },
    {
      "cell_type": "markdown",
      "metadata": {
        "id": "_F76iQJE0fCC"
      },
      "source": [
        "K Fold Cross Validation <a id =\"3\"></a>\n",
        "\n",
        "Trong phương pháp K-fold cross-validation, dữ liệu đầu vào được chia thành 'K' tập con, do đó được gọi là K-Fold. Giả sử chúng ta chia dữ liệu thành 5 tập con, tức K=5. Lúc này, chúng ta có 5 tập dữ liệu để huấn luyện và kiểm thử mô hình. Vì vậy, mô hình sẽ được huấn luyện và kiểm thử 5 lần, trong mỗi lần chúng ta sẽ sử dụng một tập con làm dữ liệu kiểm thử và các tập con còn lại làm dữ liệu huấn luyện. Ví dụ, cho mỗi lần lặp, dữ liệu trong các tập con huấn luyện và kiểm thử sẽ thay đổi, điều này làm tăng tính hiệu quả của phương pháp này.\n",
        "\n",
        "![KFold_Cross_Validation](https://raw.githubusercontent.com/satishgunjal/images/master/KFold_Cross_Validation.png)\n",
        "\n",
        "Cấu hình thiết bị và cài đặt:\n",
        "\n",
        "*   vòng lặp huấn luyện (epochs): 6\n",
        "*   phân chia (splits) dữ liệu: 3\n"
      ]
    },
    {
      "cell_type": "code",
      "execution_count": null,
      "metadata": {
        "id": "NKDd4W6r9mG9"
      },
      "outputs": [],
      "source": [
        "device = torch.device('cuda:0' if torch.cuda.is_available() else 'cpu')\n",
        "EPOCHS = 6\n",
        "N_SPLITS = 3"
      ]
    },
    {
      "cell_type": "code",
      "execution_count": null,
      "metadata": {
        "id": "PQf1v93W8shU"
      },
      "outputs": [],
      "source": [
        "# We will use Kfold later\n",
        "temp_train_df = train_df.copy()\n",
        "train_df = pd.concat([train_df, valid_df], ignore_index=True)\n",
        "skf = StratifiedKFold(n_splits=N_SPLITS)\n",
        "for fold, (_, val_) in enumerate(skf.split(X=train_df, y=train_df.is_sarcastic)):\n",
        "    train_df.loc[val_, \"kfold\"] = fold"
      ]
    },
    {
      "cell_type": "code",
      "execution_count": null,
      "metadata": {
        "id": "573oy0M35KCh",
        "colab": {
          "base_uri": "https://localhost:8080/",
          "height": 113,
          "referenced_widgets": [
            "bc3d2b8bff6b46558752f89caf8f12e3",
            "888f76c332a14a91bd0c7cfd62f2b51c",
            "b2209f365ceb4705997cca40eab3ba5c",
            "e4f871e15b6543dba5e5c4e2e2f0a200",
            "bd7ab503029d4c22affddf48785fcdda",
            "5ca2856eafcd47c19b4657738c935d2e",
            "4d6a7c211db744d383aa5d4406b0cbee",
            "7d31852315794077aba7755ff1b2fb3d",
            "5f2b79ab40de43f6baecca83032d5497",
            "2571ac03ab5a4aeda3e2b98e96c9dd7b",
            "6294253ddc5c485bbd75e2c9d418e331",
            "ca953b920ad34e3fa70fec164e557a06",
            "3623e5167b354ca8a58ecdfa9864858d",
            "3059780391bd43bebd900a885048ecf6",
            "2fa95bc31b0148f4b1333c57f5e06dd1",
            "eaf49e275175407a8990ec70771a937d",
            "cf2f0779c96c4091bf5d500e6d8824fd",
            "58d2ddc2a4ba4e8a8cc29f32514801e6",
            "071ad4a91afc41d3a6984742e375ca0d",
            "41cc83a570bb424cb29b0b34d6ff2aec",
            "dd9f660d32564bc5b2a11a01830f9a8d",
            "ca40361ceeb44599bb2674dc4115d750",
            "1631c6827dd147b6acee613c4a0f683f",
            "deb6e615e05a476683ad83f7f585bf42",
            "8aaa64aab53f4326afc50f61c099848f",
            "e3bb23034ed841cd912190cc5026297e",
            "dea3ac32b6a740839a9837f0541e2332",
            "edbafaa1ff7a42b4afb238b982cd7310",
            "a8ce716ca1a343c095911b8ba167496e",
            "10d26e1f26a74bf4b5523150a6f321ae",
            "419b8b3f632e4309993f9de80d01937e",
            "e7c9a414f5324fb89f391f4b6f1323cb",
            "0df6bdf209b1445a9af66cbd25b1fc51"
          ]
        },
        "outputId": "e0c431c2-f88c-4c47-eea1-82ae49e19dbb"
      },
      "outputs": [
        {
          "output_type": "display_data",
          "data": {
            "text/plain": [
              "Downloading (…)lve/main/config.json:   0%|          | 0.00/557 [00:00<?, ?B/s]"
            ],
            "application/vnd.jupyter.widget-view+json": {
              "version_major": 2,
              "version_minor": 0,
              "model_id": "bc3d2b8bff6b46558752f89caf8f12e3"
            }
          },
          "metadata": {}
        },
        {
          "output_type": "display_data",
          "data": {
            "text/plain": [
              "Downloading (…)solve/main/vocab.txt:   0%|          | 0.00/895k [00:00<?, ?B/s]"
            ],
            "application/vnd.jupyter.widget-view+json": {
              "version_major": 2,
              "version_minor": 0,
              "model_id": "ca953b920ad34e3fa70fec164e557a06"
            }
          },
          "metadata": {}
        },
        {
          "output_type": "display_data",
          "data": {
            "text/plain": [
              "Downloading (…)solve/main/bpe.codes:   0%|          | 0.00/1.14M [00:00<?, ?B/s]"
            ],
            "application/vnd.jupyter.widget-view+json": {
              "version_major": 2,
              "version_minor": 0,
              "model_id": "1631c6827dd147b6acee613c4a0f683f"
            }
          },
          "metadata": {}
        }
      ],
      "source": [
        "# Load tokenizer\n",
        "tokenizer = AutoTokenizer.from_pretrained(\"vinai/phobert-base\", use_fast=False)"
      ]
    },
    {
      "cell_type": "code",
      "execution_count": null,
      "metadata": {
        "id": "vhRK5yyQ91xQ"
      },
      "outputs": [],
      "source": [
        "class SentimentDataset(Dataset):\n",
        "    def __init__(self, df, tokenizer, max_len=120):\n",
        "        self.df = df\n",
        "        self.max_len = max_len\n",
        "        self.tokenizer = tokenizer\n",
        "\n",
        "    def __len__(self):\n",
        "        return len(self.df)\n",
        "\n",
        "    def __getitem__(self, index):\n",
        "        row = self.df.iloc[index]\n",
        "\n",
        "        text = row['headline']\n",
        "        text = ' '.join(simple_preprocess(text)) # lower sentence\n",
        "\n",
        "        label = row['is_sarcastic']\n",
        "\n",
        "        # Encode_plus will:\n",
        "        # (1) split text into token\n",
        "        # (2) Add the '[CLS]' and '[SEP]' token to the start and end\n",
        "        # (3) Truncate/Pad sentence to max length\n",
        "        # (4) Map token to their IDS\n",
        "        # (5) Create attention mask\n",
        "        # (6) Return a dictionary of outputs\n",
        "        encoding = self.tokenizer.encode_plus(\n",
        "            text,\n",
        "            truncation=True,\n",
        "            add_special_tokens=True,\n",
        "            max_length=self.max_len,\n",
        "            padding='max_length',\n",
        "            return_attention_mask=True,\n",
        "            return_token_type_ids=False,\n",
        "            return_tensors='pt',\n",
        "        )\n",
        "\n",
        "        return {\n",
        "            'text': text,\n",
        "            'input_ids': encoding['input_ids'].flatten(),\n",
        "            'attention_masks': encoding['attention_mask'].flatten(),\n",
        "            'targets': torch.tensor(label, dtype=torch.long),\n",
        "        }\n",
        "\n",
        "        return text, label"
      ]
    },
    {
      "cell_type": "code",
      "execution_count": null,
      "metadata": {
        "id": "D8k568od-E0c",
        "colab": {
          "base_uri": "https://localhost:8080/",
          "height": 543
        },
        "outputId": "b7bcf64f-ae58-4a42-c009-bc4ec3c395a5"
      },
      "outputs": [
        {
          "output_type": "execute_result",
          "data": {
            "text/plain": [
              "Text(0.5, 9.444444444444438, 'Token Count')"
            ]
          },
          "metadata": {},
          "execution_count": 34
        },
        {
          "output_type": "display_data",
          "data": {
            "text/plain": [
              "<Figure size 500x500 with 1 Axes>"
            ],
            "image/png": "[encoded data removed]"
          },
          "metadata": {}
        }
      ],
      "source": [
        "# Distribution of length of Sentence\n",
        "all_data = train_df.headline.tolist()\n",
        "all_data = [' '.join(simple_preprocess(text)) for text in all_data]\n",
        "encoded_text = [tokenizer.encode(text, add_special_tokens=True) for text in all_data]\n",
        "token_lens = [len(text) for text in encoded_text]\n",
        "sns.displot(token_lens)\n",
        "plt.xlim([0,max(token_lens)])\n",
        "plt.xlabel('Token Count')"
      ]
    },
    {
      "cell_type": "markdown",
      "metadata": {
        "id": "4uhNajQXZg6K"
      },
      "source": [
        "**BERT hoạt động với các chuỗi có độ dài cố định. Chúng tôi sẽ sử dụng một chiến lược đơn giản để chọn độ dài có thể phủ được hầu hết các trường hợp trong train là 25.**\n",
        "=> Dựa vào biểu đồ trên, chọn max_lenght là 25 là 1 phương án tốt"
      ]
    },
    {
      "cell_type": "markdown",
      "metadata": {
        "id": "3cag7Zxi2sMk"
      },
      "source": [
        "## **1. Auto Model**"
      ]
    },
    {
      "cell_type": "code",
      "execution_count": null,
      "metadata": {
        "id": "6DJ4Gkgg-S5R"
      },
      "outputs": [],
      "source": [
        "class SentimentClassifier(nn.Module):\n",
        "    def __init__(self, n_classes, pretrained= 'vinai/phobert-base'):\n",
        "        super(SentimentClassifier, self).__init__()\n",
        "        self.bert = AutoModel.from_pretrained(pretrained)\n",
        "        self.drop = nn.Dropout(p=0.3)\n",
        "        self.fc = nn.Linear(self.bert.config.hidden_size, n_classes)\n",
        "        nn.init.normal_(self.fc.weight, std=0.02)\n",
        "        nn.init.normal_(self.fc.bias, 0)\n",
        "\n",
        "    def forward(self, input_ids, attention_mask):\n",
        "        last_hidden_state, output = self.bert(\n",
        "            input_ids=input_ids,\n",
        "            attention_mask=attention_mask,\n",
        "            return_dict=False # Dropout will errors if without this\n",
        "        )\n",
        "\n",
        "        x = self.drop(output)\n",
        "        x = self.fc(x)\n",
        "        return x"
      ]
    },
    {
      "cell_type": "markdown",
      "source": [
        "## 2. Training phase"
      ],
      "metadata": {
        "id": "JqCEYV78L-Pu"
      }
    },
    {
      "cell_type": "code",
      "execution_count": null,
      "metadata": {
        "id": "jj5Bfb_X-W_o"
      },
      "outputs": [],
      "source": [
        "def train(model, criterion, optimizer, train_loader):\n",
        "    model.train()\n",
        "    losses = []\n",
        "    correct = 0\n",
        "\n",
        "    for data in train_loader:\n",
        "        input_ids = data['input_ids'].to(device)\n",
        "        attention_mask = data['attention_masks'].to(device)\n",
        "        targets = data['targets'].to(device)\n",
        "\n",
        "        optimizer.zero_grad()\n",
        "        outputs = model(\n",
        "            input_ids=input_ids,\n",
        "            attention_mask=attention_mask\n",
        "        )\n",
        "\n",
        "        loss = criterion(outputs, targets)\n",
        "        _, pred = torch.max(outputs, dim=1)\n",
        "\n",
        "        correct += torch.sum(pred == targets)\n",
        "        losses.append(loss.item())\n",
        "        loss.backward()\n",
        "        nn.utils.clip_grad_norm_(model.parameters(), max_norm=1.0)\n",
        "        optimizer.step()\n",
        "        lr_scheduler.step()\n",
        "\n",
        "    print(f'Train Accuracy: {correct.double()/len(train_loader.dataset)} Loss: {np.mean(losses)}')\n",
        "\n",
        "def eval(test_data = False):\n",
        "    model.eval()\n",
        "    losses = []\n",
        "    correct = 0\n",
        "\n",
        "    with torch.no_grad():\n",
        "        data_loader = test_loader if test_data else valid_loader\n",
        "        for data in data_loader:\n",
        "            input_ids = data['input_ids'].to(device)\n",
        "            attention_mask = data['attention_masks'].to(device)\n",
        "            targets = data['targets'].to(device)\n",
        "\n",
        "            outputs = model(\n",
        "                input_ids=input_ids,\n",
        "                attention_mask=attention_mask\n",
        "            )\n",
        "\n",
        "            _, pred = torch.max(outputs, dim=1)\n",
        "\n",
        "            loss = criterion(outputs, targets)\n",
        "            correct += torch.sum(pred == targets)\n",
        "            losses.append(loss.item())\n",
        "\n",
        "    if test_data:\n",
        "        print(f'Test Accuracy: {correct.double()/len(test_loader.dataset)} Loss: {np.mean(losses)}')\n",
        "        return correct.double()/len(test_loader.dataset)\n",
        "    else:\n",
        "        print(f'Valid Accuracy: {correct.double()/len(valid_loader.dataset)} Loss: {np.mean(losses)}')\n",
        "        return correct.double()/len(valid_loader.dataset)"
      ]
    },
    {
      "cell_type": "code",
      "execution_count": null,
      "metadata": {
        "id": "LSqKjFsI-kFZ"
      },
      "outputs": [],
      "source": [
        "def prepare_loaders(df, fold):\n",
        "    df_train = df[df.kfold != fold].reset_index(drop=True)\n",
        "    df_valid = df[df.kfold == fold].reset_index(drop=True)\n",
        "\n",
        "    train_dataset = SentimentDataset(df_train, tokenizer, max_len=25)\n",
        "    valid_dataset = SentimentDataset(df_valid, tokenizer, max_len=25)\n",
        "\n",
        "    train_loader = DataLoader(train_dataset, batch_size=16, shuffle=True, num_workers=2)\n",
        "    valid_loader = DataLoader(valid_dataset, batch_size=16, shuffle=True, num_workers=2)\n",
        "\n",
        "    return train_loader, valid_loader"
      ]
    },
    {
      "cell_type": "code",
      "execution_count": null,
      "metadata": {
        "id": "su-SKrpF-op4",
        "colab": {
          "base_uri": "https://localhost:8080/"
        },
        "outputId": "fe0eb409-fbbe-4865-b5fb-66983daaa35e"
      },
      "outputs": [
        {
          "output_type": "stream",
          "name": "stdout",
          "text": [
            "-----------Fold: 1 ------------------\n",
            "Epoch 1/6\n",
            "------------------------------\n",
            "Train Accuracy: 0.803352559480894 Loss: 0.42149799769094765\n",
            "Valid Accuracy: 0.8356756756756757 Loss: 0.389943590237834\n",
            "Epoch 2/6\n",
            "------------------------------\n",
            "Train Accuracy: 0.9133020908435472 Loss: 0.23505841405466413\n",
            "Valid Accuracy: 0.861981981981982 Loss: 0.41700452076399636\n",
            "Epoch 3/6\n",
            "------------------------------\n",
            "Train Accuracy: 0.9549387166546502 Loss: 0.15039645972854918\n",
            "Valid Accuracy: 0.870990990990991 Loss: 0.5309701361399058\n",
            "Epoch 4/6\n",
            "------------------------------\n",
            "Train Accuracy: 0.9736842105263157 Loss: 0.09630166303858924\n",
            "Valid Accuracy: 0.8792792792792793 Loss: 0.5915689214390981\n",
            "Epoch 5/6\n",
            "------------------------------\n",
            "Train Accuracy: 0.9841384282624368 Loss: 0.06424091856588506\n",
            "Valid Accuracy: 0.8839639639639639 Loss: 0.6076105829561129\n",
            "Epoch 6/6\n",
            "------------------------------\n",
            "Train Accuracy: 0.990086517664023 Loss: 0.04223866466102687\n",
            "Valid Accuracy: 0.8821621621621621 Loss: 0.6326121612028459\n",
            "-----------Fold: 2 ------------------\n",
            "Epoch 1/6\n",
            "------------------------------\n",
            "Train Accuracy: 0.8023067219318797 Loss: 0.43175690337714956\n",
            "Valid Accuracy: 0.8684210526315789 Loss: 0.30638846969124917\n",
            "Epoch 2/6\n",
            "------------------------------\n",
            "Train Accuracy: 0.9007028293386196 Loss: 0.25627855131515337\n",
            "Valid Accuracy: 0.877072819033886 Loss: 0.32562925766125833\n",
            "Epoch 3/6\n",
            "------------------------------\n",
            "Train Accuracy: 0.9466570553252839 Loss: 0.16050608501493158\n",
            "Valid Accuracy: 0.8767123287671232 Loss: 0.5031631258771294\n",
            "Epoch 4/6\n",
            "------------------------------\n",
            "Train Accuracy: 0.9652189583708777 Loss: 0.12097657144892295\n",
            "Valid Accuracy: 0.8868060562364816 Loss: 0.5284789957209147\n",
            "Epoch 5/6\n",
            "------------------------------\n",
            "Train Accuracy: 0.9798161830960533 Loss: 0.07491124821028347\n",
            "Valid Accuracy: 0.8889689978370583 Loss: 0.5784764568101958\n",
            "Epoch 6/6\n",
            "------------------------------\n",
            "Train Accuracy: 0.9881059650387457 Loss: 0.05062446341432513\n",
            "Valid Accuracy: 0.8889689978370583 Loss: 0.6476353102838005\n",
            "-----------Fold: 3 ------------------\n",
            "Epoch 1/6\n",
            "------------------------------\n",
            "Train Accuracy: 0.7260767705892954 Loss: 0.5237468427600023\n",
            "Valid Accuracy: 0.8439077144917086 Loss: 0.36478356905709736\n",
            "Epoch 2/6\n",
            "------------------------------\n",
            "Train Accuracy: 0.8754730582086863 Loss: 0.30273081359026754\n",
            "Valid Accuracy: 0.8785147801009372 Loss: 0.31323952197857285\n",
            "Epoch 3/6\n",
            "------------------------------\n",
            "Train Accuracy: 0.9311587673454677 Loss: 0.1935413146971239\n",
            "Valid Accuracy: 0.8777937995674117 Loss: 0.39929071366358765\n",
            "Epoch 4/6\n",
            "------------------------------\n",
            "Train Accuracy: 0.9589115155883944 Loss: 0.12928294571806337\n",
            "Valid Accuracy: 0.8702235039653929 Loss: 0.5308851139090056\n",
            "Epoch 5/6\n",
            "------------------------------\n",
            "Train Accuracy: 0.9718868264552172 Loss: 0.09597324757093312\n",
            "Valid Accuracy: 0.8821196827685652 Loss: 0.5460174613626909\n",
            "Epoch 6/6\n",
            "------------------------------\n",
            "Train Accuracy: 0.979095332492341 Loss: 0.07182592335653623\n",
            "Valid Accuracy: 0.88788752703677 Loss: 0.5587673918571558\n"
          ]
        }
      ],
      "source": [
        "for fold in range(skf.n_splits):\n",
        "    print(f'-----------Fold: {fold+1} ------------------')\n",
        "    train_loader, valid_loader = prepare_loaders(train_df, fold=fold)\n",
        "    model = SentimentClassifier(n_classes=2, pretrained='vinai/phobert-base').to(device)\n",
        "    criterion = nn.CrossEntropyLoss()\n",
        "    # Recommendation by BERT: lr: 5e-5, 2e-5, 3e-5\n",
        "    # Batchsize: 16, 32\n",
        "    optimizer = AdamW(model.parameters(), lr=2e-5)\n",
        "\n",
        "    lr_scheduler = get_linear_schedule_with_warmup(\n",
        "                optimizer,\n",
        "                num_warmup_steps=0,\n",
        "                num_training_steps=len(train_loader)*EPOCHS\n",
        "            )\n",
        "    best_acc = 0\n",
        "    for epoch in range(EPOCHS):\n",
        "        print(f'Epoch {epoch+1}/{EPOCHS}')\n",
        "        print('-'*30)\n",
        "\n",
        "        train(model, criterion, optimizer, train_loader)\n",
        "        val_acc = eval()\n",
        "\n",
        "        if val_acc > best_acc:\n",
        "            torch.save(model.state_dict(), f'phobert_fold{fold+1}.pth')\n",
        "            best_acc = val_acc"
      ]
    },
    {
      "cell_type": "markdown",
      "source": [
        "## **3. Testing phase**"
      ],
      "metadata": {
        "id": "vw1rGQIQMCeQ"
      }
    },
    {
      "cell_type": "code",
      "execution_count": null,
      "metadata": {
        "id": "693Sa4ym-siV"
      },
      "outputs": [],
      "source": [
        "def test(data_loader):\n",
        "    models = []\n",
        "    for fold in range(skf.n_splits):\n",
        "        model = SentimentClassifier(n_classes=2)\n",
        "        model.to(device)\n",
        "        model.load_state_dict(torch.load(f'phobert_fold{fold+1}.pth'))\n",
        "        model.eval()\n",
        "        models.append(model)\n",
        "\n",
        "    texts = []\n",
        "    predicts = []\n",
        "    predict_probs = []\n",
        "    real_values = []\n",
        "\n",
        "    for data in data_loader:\n",
        "        text = data['text']\n",
        "        input_ids = data['input_ids'].to(device)\n",
        "        attention_mask = data['attention_masks'].to(device)\n",
        "        targets = data['targets'].to(device)\n",
        "\n",
        "        total_outs = []\n",
        "        for model in models:\n",
        "            with torch.no_grad():\n",
        "                outputs = model(\n",
        "                    input_ids=input_ids,\n",
        "                    attention_mask=attention_mask\n",
        "                )\n",
        "                total_outs.append(outputs)\n",
        "\n",
        "        total_outs = torch.stack(total_outs)\n",
        "        _, pred = torch.max(total_outs.mean(0), dim=1)\n",
        "        texts.extend(text)\n",
        "        predicts.extend(pred)\n",
        "        predict_probs.extend(total_outs.mean(0))\n",
        "        real_values.extend(targets)\n",
        "\n",
        "    predicts = torch.stack(predicts).cpu()\n",
        "    predict_probs = torch.stack(predict_probs).cpu()\n",
        "    real_values = torch.stack(real_values).cpu()\n",
        "    print(classification_report(real_values, predicts))\n",
        "    return real_values, predicts"
      ]
    },
    {
      "cell_type": "code",
      "execution_count": null,
      "metadata": {
        "id": "Cj_Oe8w5E_1W",
        "colab": {
          "base_uri": "https://localhost:8080/"
        },
        "outputId": "7bf64a9c-f464-4fe5-c4f8-3363e74bbcfe"
      },
      "outputs": [
        {
          "output_type": "stream",
          "name": "stdout",
          "text": [
            "              precision    recall  f1-score   support\n",
            "\n",
            "           0       0.90      0.93      0.92      1124\n",
            "           1       0.88      0.84      0.86       700\n",
            "\n",
            "    accuracy                           0.89      1824\n",
            "   macro avg       0.89      0.88      0.89      1824\n",
            "weighted avg       0.89      0.89      0.89      1824\n",
            "\n"
          ]
        }
      ],
      "source": [
        "test_dataset = SentimentDataset(test_df, tokenizer, max_len=15)\n",
        "test_loader = DataLoader(test_dataset, batch_size=16, shuffle=False, num_workers=2)\n",
        "real_values, predicts = test(test_loader)"
      ]
    },
    {
      "cell_type": "code",
      "execution_count": null,
      "metadata": {
        "id": "9sqz1LAVFJ48",
        "colab": {
          "base_uri": "https://localhost:8080/",
          "height": 497
        },
        "outputId": "ab189419-2101-4976-ad6a-2f6f58e31066"
      },
      "outputs": [
        {
          "output_type": "display_data",
          "data": {
            "text/plain": [
              "<Figure size 640x480 with 2 Axes>"
            ],
            "image/png": "[encoded data removed]"
          },
          "metadata": {}
        }
      ],
      "source": [
        "from sklearn.metrics import confusion_matrix, ConfusionMatrixDisplay\n",
        "\n",
        "disp = ConfusionMatrixDisplay.from_predictions(real_values, predicts)\n",
        "disp.figure_.suptitle(\"Confusion Matrix\")\n",
        "plt.show()"
      ]
    },
    {
      "cell_type": "markdown",
      "source": [
        "## **4. Find all wrong predictions**"
      ],
      "metadata": {
        "id": "cWkoyw6rMZoN"
      }
    },
    {
      "cell_type": "code",
      "execution_count": null,
      "metadata": {
        "id": "6iUTIs7eFa9D",
        "colab": {
          "base_uri": "https://localhost:8080/"
        },
        "outputId": "04ba3e11-ca47-4d63-ed7c-a87c45161a84"
      },
      "outputs": [
        {
          "output_type": "stream",
          "name": "stdout",
          "text": [
            "Number of wrong predict:  193\n",
            "The first 50 headlines with wrong predictions:\n",
            "--------------------------------------------------\n",
            "Mekong_Delta_Marathon ' mở_cửa ’ đến World_Marathon_Majors\n",
            "Predicted: (sarcasm) --vs-- Real label: (non sarcasm)\n",
            "--------------------------------------------------\n",
            "Anh lần đầu thử_nghiệm xe_buýt không người lái\n",
            "Predicted: (non sarcasm) --vs-- Real label: (sarcasm)\n",
            "--------------------------------------------------\n",
            "' Sửng_sốt ' vì ô_tô mới mua không có lốp dự_phòng , lý_do là gì ?\n",
            "Predicted: (sarcasm) --vs-- Real label: (non sarcasm)\n",
            "--------------------------------------------------\n",
            "Chủ_tịch ngân_hàng gây sốt sau khi hát ' Cô_đơn trên sofa '\n",
            "Predicted: (sarcasm) --vs-- Real label: (non sarcasm)\n",
            "--------------------------------------------------\n",
            "Đề_xuất tiền gửi ngân_hàng lãi_suất 0% gây sốc\n",
            "Predicted: (non sarcasm) --vs-- Real label: (sarcasm)\n",
            "--------------------------------------------------\n",
            "Sinh_viên có việc_làm cao ngất_ngưởng , nhiều ngành đạt 100%\n",
            "Predicted: (non sarcasm) --vs-- Real label: (sarcasm)\n",
            "--------------------------------------------------\n",
            "PV độc_quyền Lucie_Nguyễn - Tuấn_Dương : \" Lan_Ngọc sẽ làm dâu phụ , mong Kỳ_Duyên - Minh_Triệu bắt ...\n",
            "Predicted: (non sarcasm) --vs-- Real label: (sarcasm)\n",
            "--------------------------------------------------\n",
            "U20 Việt_Nam tự răn mình trước trận gặp Iran\n",
            "Predicted: (non sarcasm) --vs-- Real label: (sarcasm)\n",
            "--------------------------------------------------\n",
            "Cục_diện bảng tử_thần Euro 2020 : Cực_kỳ khó lường\n",
            "Predicted: (non sarcasm) --vs-- Real label: (sarcasm)\n",
            "--------------------------------------------------\n",
            "Bộ_trưởng Anh ‘ phá lệ ’ , tiếp quan_chức cấp cao Đài_Loan\n",
            "Predicted: (non sarcasm) --vs-- Real label: (sarcasm)\n",
            "--------------------------------------------------\n",
            "Nhân_viên ' giãy đành_đạch ' không chịu đi làm quá 4 ngày / tuần\n",
            "Predicted: (sarcasm) --vs-- Real label: (non sarcasm)\n",
            "--------------------------------------------------\n",
            "Mất điện , coi_chừng mất luôn ' đại_bàng '\n",
            "Predicted: (sarcasm) --vs-- Real label: (non sarcasm)\n",
            "--------------------------------------------------\n",
            "Đỗ ô_tô tại ngã tư , nữ tài_xế còn thách_thức : ' Thích đậu đó , được không ? '\n",
            "Predicted: (sarcasm) --vs-- Real label: (non sarcasm)\n",
            "--------------------------------------------------\n",
            "Diễn_viên Ngọc_Lan và lùm xùm vụ bảo_hiểm\n",
            "Predicted: (sarcasm) --vs-- Real label: (non sarcasm)\n",
            "--------------------------------------------------\n",
            "Gia_Đình Mình_Vui_Bất_Thình Lình : Con trai lại gây_chuyện khiến mẹ khóc nghẹn\n",
            "Predicted: (sarcasm) --vs-- Real label: (non sarcasm)\n",
            "--------------------------------------------------\n",
            "Công_ty TNHH một thành_viên ... một cục\n",
            "Predicted: (non sarcasm) --vs-- Real label: (sarcasm)\n",
            "--------------------------------------------------\n",
            "Hyatt và American_Airlines \" đãi \" toàn_bộ nhân_viên một bệnh_viện kỳ nghỉ_mát miễn_phí !\n",
            "Predicted: (non sarcasm) --vs-- Real label: (sarcasm)\n",
            "--------------------------------------------------\n",
            "[ Video ] Thách đấu bóng_bàn với nhà vô_địch SEA_Games 32 Đinh_Anh_Hoàng và Trần_Mai_Ngọc\n",
            "Predicted: (sarcasm) --vs-- Real label: (non sarcasm)\n",
            "--------------------------------------------------\n",
            "Hãng xe Studebaker bị xoá_sổ 55 năm nhưng vẫn ' sống ' tới bây_giờ\n",
            "Predicted: (sarcasm) --vs-- Real label: (non sarcasm)\n",
            "--------------------------------------------------\n",
            "Nuôi đà_điểu châu_Phi ở Nga\n",
            "Predicted: (sarcasm) --vs-- Real label: (non sarcasm)\n",
            "--------------------------------------------------\n",
            "Tiền học thêm gấp đôi học_phí : Khoản nào tiền đúng , khoản gì tiền sai ?\n",
            "Predicted: (non sarcasm) --vs-- Real label: (sarcasm)\n",
            "--------------------------------------------------\n",
            "Truyện_ngắn : Tay muốn chạm tay\n",
            "Predicted: (sarcasm) --vs-- Real label: (non sarcasm)\n",
            "--------------------------------------------------\n",
            "Singapore là quốc_gia đầu_tiên cho_phép bán thịt nhân_tạo\n",
            "Predicted: (non sarcasm) --vs-- Real label: (sarcasm)\n",
            "--------------------------------------------------\n",
            "‘ Mịt_mù tuyết bay ’ - tập truyện_ngắn hay\n",
            "Predicted: (sarcasm) --vs-- Real label: (non sarcasm)\n",
            "--------------------------------------------------\n",
            "10 liên_tưởng vui về tiền phạt vi_phạm quy_định phòng_chống dịch\n",
            "Predicted: (non sarcasm) --vs-- Real label: (sarcasm)\n",
            "--------------------------------------------------\n",
            "Xe_buýt hệ ...Fast & Furious\n",
            "Predicted: (non sarcasm) --vs-- Real label: (sarcasm)\n",
            "--------------------------------------------------\n",
            "Kroos dùng Hazard để cảnh_báo Jude_Bellingham\n",
            "Predicted: (sarcasm) --vs-- Real label: (non sarcasm)\n",
            "--------------------------------------------------\n",
            "Tuyển nữ Việt_Nam sẽ lên màn_ảnh sau khi dự World_Cup\n",
            "Predicted: (sarcasm) --vs-- Real label: (non sarcasm)\n",
            "--------------------------------------------------\n",
            "Khu_phố văn_hoá , nói không với các loại ' rác '\n",
            "Predicted: (non sarcasm) --vs-- Real label: (sarcasm)\n",
            "--------------------------------------------------\n",
            "Cát_Phượng công_khai bạn trai Việt_kiều : Nhiều người chửi tôi ‘ già mà ngu ’\n",
            "Predicted: (sarcasm) --vs-- Real label: (non sarcasm)\n",
            "--------------------------------------------------\n",
            "Những biển quảng_cáo sáng_tạo đầy ấn_tượng\n",
            "Predicted: (non sarcasm) --vs-- Real label: (sarcasm)\n",
            "--------------------------------------------------\n",
            "Mắc mệt vì xem những người đẹp cãi_vã kiểu ' thái_độ hơn trình_độ '\n",
            "Predicted: (sarcasm) --vs-- Real label: (non sarcasm)\n",
            "--------------------------------------------------\n",
            "Du_lịch nội_địa ' đói khách ' vì giá vé máy_bay cao ngất_ngưởng\n",
            "Predicted: (non sarcasm) --vs-- Real label: (sarcasm)\n",
            "--------------------------------------------------\n",
            "Nhà_máy thuỷ_điện không phép !\n",
            "Predicted: (non sarcasm) --vs-- Real label: (sarcasm)\n",
            "--------------------------------------------------\n",
            "' VieON by DatVietVAC ' - ghi dấu tuổi lên 3 rực_rỡ\n",
            "Predicted: (sarcasm) --vs-- Real label: (non sarcasm)\n",
            "--------------------------------------------------\n",
            "Ngôi nhà treo rèm tre dọc ban_công\n",
            "Predicted: (sarcasm) --vs-- Real label: (non sarcasm)\n",
            "--------------------------------------------------\n",
            "Nghe_nói Tết năm nay được nghỉ 9 ngày\n",
            "Predicted: (non sarcasm) --vs-- Real label: (sarcasm)\n",
            "--------------------------------------------------\n",
            "Công_ty bị thanh_tra , kiểm_tra đến 138 lần !\n",
            "Predicted: (non sarcasm) --vs-- Real label: (sarcasm)\n",
            "--------------------------------------------------\n",
            "Lần đầu có bùng_binh , dân bối_rối không biết đi thế_nào cho đúng\n",
            "Predicted: (non sarcasm) --vs-- Real label: (sarcasm)\n",
            "--------------------------------------------------\n",
            "Về quê ăn Tết bằng ' máy_bay đường_bộ '\n",
            "Predicted: (non sarcasm) --vs-- Real label: (sarcasm)\n",
            "--------------------------------------------------\n",
            "Trung_tâm đăng_kiểm bị ... kiểm_tra\n",
            "Predicted: (non sarcasm) --vs-- Real label: (sarcasm)\n",
            "--------------------------------------------------\n",
            "Tuyển_sinh đại_học : Nghề chọn người !\n",
            "Predicted: (non sarcasm) --vs-- Real label: (sarcasm)\n",
            "--------------------------------------------------\n",
            "Đại_học ... đừng học đại\n",
            "Predicted: (sarcasm) --vs-- Real label: (non sarcasm)\n",
            "--------------------------------------------------\n",
            "Chris_Hemsworth ‘ tả_xung_hữu_đột ’ trong phim hành_động ‘ Extraction 2 ’\n",
            "Predicted: (sarcasm) --vs-- Real label: (non sarcasm)\n",
            "--------------------------------------------------\n",
            "Việc nhẹ lương cao : Chỉ cần xem phim Netflix và ăn pizza\n",
            "Predicted: (non sarcasm) --vs-- Real label: (sarcasm)\n",
            "--------------------------------------------------\n",
            "Giấu gần 1kg vàng trong ruột để qua_mặt an_ninh sân_bay\n",
            "Predicted: (non sarcasm) --vs-- Real label: (sarcasm)\n",
            "--------------------------------------------------\n",
            "PSG sụp đổ ?\n",
            "Predicted: (sarcasm) --vs-- Real label: (non sarcasm)\n",
            "--------------------------------------------------\n",
            "\" Khoai_tây Mỹ cho sức_khoẻ như_ý \" - hành_trình gửi_gắm thông_điệp ăn lành sống khoẻ đến với mọi nhà\n",
            "Predicted: (sarcasm) --vs-- Real label: (non sarcasm)\n",
            "--------------------------------------------------\n",
            "Xin việc đúng người nhưng sai thời_điểm\n",
            "Predicted: (non sarcasm) --vs-- Real label: (sarcasm)\n",
            "--------------------------------------------------\n",
            "Chương_trình : ' ' Làm_đẹp từ_tâm , nâng tầm nhan_sắc ' ' - Cơ_hội nâng mũi đẹp chỉ 0 đồng\n",
            "Predicted: (sarcasm) --vs-- Real label: (non sarcasm)\n"
          ]
        }
      ],
      "source": [
        "class_names = ['non sarcasm', 'sarcasm']\n",
        "\n",
        "def check_wrong(real_values, predicts, df):\n",
        "    wrong_true_labels= []\n",
        "    wrong_pred_labels = []\n",
        "    wrong_txts = []\n",
        "    for i in range(len(predicts)):\n",
        "        if predicts[i] != real_values[i]:\n",
        "            wrong_true_labels.append(real_values[i])\n",
        "            wrong_pred_labels.append(predicts[i])\n",
        "            wrong_txts.append(df.iloc[i].headline)\n",
        "    return wrong_true_labels, wrong_pred_labels, wrong_txts\n",
        "\n",
        "wrong_true_labels, wrong_pred_labels, wrong_txts = check_wrong(real_values, predicts, test_df)\n",
        "phobert_wrong_headline = []\n",
        "print(\"Number of wrong predict: \", len(wrong_true_labels))\n",
        "print(\"The first 50 headlines with wrong predictions:\")\n",
        "for i in range(50):\n",
        "    print('-'*50)\n",
        "    phobert_wrong_headline.append(wrong_txts[i])\n",
        "    print(wrong_txts[i])\n",
        "    print(f'Predicted: ({class_names[wrong_pred_labels[i]]}) --vs-- Real label: ({class_names[wrong_true_labels[i]]})')"
      ]
    },
    {
      "cell_type": "markdown",
      "source": [
        "**Nhận xét các câu dự đoán sai dự trên phương pháp sử dụng phobert/base**\n",
        "- Theo nhóm chúng em quan sát, có nhưng câu chính tụi em cũng không biết nó là châm biếm hay không châm biếm, nên việc model dự đoán sai cũng có thể chấp nhận được\n",
        "  *  Ví dụ: Những biển quảng_cáo sáng_tạo đầy ấn_tượng\n",
        "Predicted: (non sarcasm) --vs-- Real label: (sarcasm)\n",
        "  *  Nghe_nói Tết năm nay được nghỉ 9 ngày\n",
        "Predicted: (non sarcasm) --vs-- Real label: (sarcasm)\n",
        "- Nhưng bên cạnh đó, cũng có nhưng câu có thể bị label sai, ví dụ như:\n",
        "  *  Ví dụ: Mắc mệt vì xem những người đẹp cãi_vã kiểu ' thái_độ hơn trình_độ '\n",
        "Predicted: (sarcasm) --vs-- Real label: (non sarcasm)\n",
        "  *  Ví dụ: Mất điện , coi_chừng mất luôn ' đại_bàng '\n",
        "Predicted: (sarcasm) --vs-- Real label: (non sarcasm)\n",
        "  * Vi du: Nhân_viên ' giãy đành_đạch ' không chịu đi làm quá 4 ngày / tuần\n",
        "Predicted: (sarcasm) --vs-- Real label: (non sarcasm)"
      ],
      "metadata": {
        "id": "wYmkAmjIqm7h"
      }
    },
    {
      "cell_type": "markdown",
      "metadata": {
        "id": "-vpGAnpfBUbP"
      },
      "source": [
        "# **II. SVC**\n",
        "1. Preprocess: Segment word với vncorenlp\n",
        "2. Pipeline: sử dụng TfidfVectorizer để chuyển đổi dữ liệu văn bản thành ma trận TF-IDF\n",
        "3. RandomizedSearchCV: để tìm kiếm siêu tham số tốt nhất cho mô hình Support Vector Classifier (SVC) dựa tên X_train và y_train\n",
        "4. Classifier: SVC"
      ]
    },
    {
      "cell_type": "code",
      "execution_count": null,
      "metadata": {
        "id": "2ubmyzpO2YRo"
      },
      "outputs": [],
      "source": [
        "from sklearn.feature_extraction.text import TfidfVectorizer\n",
        "from sklearn.model_selection import cross_val_score, train_test_split, RandomizedSearchCV\n",
        "from sklearn.metrics import confusion_matrix, classification_report, ConfusionMatrixDisplay\n",
        "from sklearn.svm import SVC\n",
        "from sklearn.pipeline import Pipeline"
      ]
    },
    {
      "cell_type": "code",
      "execution_count": null,
      "metadata": {
        "id": "g_WIVYqD4sty"
      },
      "outputs": [],
      "source": [
        "train_df = temp_train_df\n",
        "X_train, y_train = train_df.headline, train_df.is_sarcastic\n",
        "X_val, y_val = valid_df.headline, valid_df.is_sarcastic\n",
        "X_train = np.concatenate((X_train, X_val), axis=0)\n",
        "y_train = np.concatenate((y_train, y_val), axis=0)\n",
        "X_test, y_test = test_df.headline, test_df.is_sarcastic"
      ]
    },
    {
      "cell_type": "markdown",
      "source": [
        "## **1. Training phase**"
      ],
      "metadata": {
        "id": "5x5LoFimNASh"
      }
    },
    {
      "cell_type": "code",
      "execution_count": null,
      "metadata": {
        "id": "X_yoq6rJ2yic",
        "colab": {
          "base_uri": "https://localhost:8080/",
          "height": 152
        },
        "outputId": "3483cdd4-de12-4d7c-fcba-d7c191a67561"
      },
      "outputs": [
        {
          "output_type": "execute_result",
          "data": {
            "text/plain": [
              "RandomizedSearchCV(cv=5,\n",
              "                   estimator=Pipeline(steps=[('tfidf', TfidfVectorizer()),\n",
              "                                             ('clf', SVC())]),\n",
              "                   param_distributions={'clf__C': array([1.e-03, 1.e-02, 1.e-01, 1.e+00, 1.e+01, 1.e+02, 1.e+03]),\n",
              "                                        'clf__gamma': array([1.e-03, 1.e-02, 1.e-01, 1.e+00, 1.e+01, 1.e+02, 1.e+03]),\n",
              "                                        'tfidf__max_df': (0.5, 0.75, 1.0),\n",
              "                                        'tfidf__min_df': (1, 2),\n",
              "                                        'tfidf__ngram_range': ((1, 1), (1, 2)),\n",
              "                                        'tfidf__norm': ('l1', 'l2'),\n",
              "                                        'tfidf__use_idf': (True, False)})"
            ],
            "text/html": [
              "<style>#sk-container-id-1 {color: black;background-color: white;}#sk-container-id-1 pre{padding: 0;}#sk-container-id-1 div.sk-toggleable {background-color: white;}#sk-container-id-1 label.sk-toggleable__label {cursor: pointer;display: block;width: 100%;margin-bottom: 0;padding: 0.3em;box-sizing: border-box;text-align: center;}#sk-container-id-1 label.sk-toggleable__label-arrow:before {content: \"▸\";float: left;margin-right: 0.25em;color: #696969;}#sk-container-id-1 label.sk-toggleable__label-arrow:hover:before {color: black;}#sk-container-id-1 div.sk-estimator:hover label.sk-toggleable__label-arrow:before {color: black;}#sk-container-id-1 div.sk-toggleable__content {max-height: 0;max-width: 0;overflow: hidden;text-align: left;background-color: #f0f8ff;}#sk-container-id-1 div.sk-toggleable__content pre {margin: 0.2em;color: black;border-radius: 0.25em;background-color: #f0f8ff;}#sk-container-id-1 input.sk-toggleable__control:checked~div.sk-toggleable__content {max-height: 200px;max-width: 100%;overflow: auto;}#sk-container-id-1 input.sk-toggleable__control:checked~label.sk-toggleable__label-arrow:before {content: \"▾\";}#sk-container-id-1 div.sk-estimator input.sk-toggleable__control:checked~label.sk-toggleable__label {background-color: #d4ebff;}#sk-container-id-1 div.sk-label input.sk-toggleable__control:checked~label.sk-toggleable__label {background-color: #d4ebff;}#sk-container-id-1 input.sk-hidden--visually {border: 0;clip: rect(1px 1px 1px 1px);clip: rect(1px, 1px, 1px, 1px);height: 1px;margin: -1px;overflow: hidden;padding: 0;position: absolute;width: 1px;}#sk-container-id-1 div.sk-estimator {font-family: monospace;background-color: #f0f8ff;border: 1px dotted black;border-radius: 0.25em;box-sizing: border-box;margin-bottom: 0.5em;}#sk-container-id-1 div.sk-estimator:hover {background-color: #d4ebff;}#sk-container-id-1 div.sk-parallel-item::after {content: \"\";width: 100%;border-bottom: 1px solid gray;flex-grow: 1;}#sk-container-id-1 div.sk-label:hover label.sk-toggleable__label {background-color: #d4ebff;}#sk-container-id-1 div.sk-serial::before {content: \"\";position: absolute;border-left: 1px solid gray;box-sizing: border-box;top: 0;bottom: 0;left: 50%;z-index: 0;}#sk-container-id-1 div.sk-serial {display: flex;flex-direction: column;align-items: center;background-color: white;padding-right: 0.2em;padding-left: 0.2em;position: relative;}#sk-container-id-1 div.sk-item {position: relative;z-index: 1;}#sk-container-id-1 div.sk-parallel {display: flex;align-items: stretch;justify-content: center;background-color: white;position: relative;}#sk-container-id-1 div.sk-item::before, #sk-container-id-1 div.sk-parallel-item::before {content: \"\";position: absolute;border-left: 1px solid gray;box-sizing: border-box;top: 0;bottom: 0;left: 50%;z-index: -1;}#sk-container-id-1 div.sk-parallel-item {display: flex;flex-direction: column;z-index: 1;position: relative;background-color: white;}#sk-container-id-1 div.sk-parallel-item:first-child::after {align-self: flex-end;width: 50%;}#sk-container-id-1 div.sk-parallel-item:last-child::after {align-self: flex-start;width: 50%;}#sk-container-id-1 div.sk-parallel-item:only-child::after {width: 0;}#sk-container-id-1 div.sk-dashed-wrapped {border: 1px dashed gray;margin: 0 0.4em 0.5em 0.4em;box-sizing: border-box;padding-bottom: 0.4em;background-color: white;}#sk-container-id-1 div.sk-label label {font-family: monospace;font-weight: bold;display: inline-block;line-height: 1.2em;}#sk-container-id-1 div.sk-label-container {text-align: center;}#sk-container-id-1 div.sk-container {/* jupyter's `normalize.less` sets `[hidden] { display: none; }` but bootstrap.min.css set `[hidden] { display: none !important; }` so we also need the `!important` here to be able to override the default hidden behavior on the sphinx rendered scikit-learn.org. See: https://github.com/scikit-learn/scikit-learn/issues/21755 */display: inline-block !important;position: relative;}#sk-container-id-1 div.sk-text-repr-fallback {display: none;}</style><div id=\"sk-container-id-1\" class=\"sk-top-container\"><div class=\"sk-text-repr-fallback\"><pre>RandomizedSearchCV(cv=5,\n",
              "                   estimator=Pipeline(steps=[(&#x27;tfidf&#x27;, TfidfVectorizer()),\n",
              "                                             (&#x27;clf&#x27;, SVC())]),\n",
              "                   param_distributions={&#x27;clf__C&#x27;: array([1.e-03, 1.e-02, 1.e-01, 1.e+00, 1.e+01, 1.e+02, 1.e+03]),\n",
              "                                        &#x27;clf__gamma&#x27;: array([1.e-03, 1.e-02, 1.e-01, 1.e+00, 1.e+01, 1.e+02, 1.e+03]),\n",
              "                                        &#x27;tfidf__max_df&#x27;: (0.5, 0.75, 1.0),\n",
              "                                        &#x27;tfidf__min_df&#x27;: (1, 2),\n",
              "                                        &#x27;tfidf__ngram_range&#x27;: ((1, 1), (1, 2)),\n",
              "                                        &#x27;tfidf__norm&#x27;: (&#x27;l1&#x27;, &#x27;l2&#x27;),\n",
              "                                        &#x27;tfidf__use_idf&#x27;: (True, False)})</pre><b>In a Jupyter environment, please rerun this cell to show the HTML representation or trust the notebook. <br />On GitHub, the HTML representation is unable to render, please try loading this page with nbviewer.org.</b></div><div class=\"sk-container\" hidden><div class=\"sk-item sk-dashed-wrapped\"><div class=\"sk-label-container\"><div class=\"sk-label sk-toggleable\"><input class=\"sk-toggleable__control sk-hidden--visually\" id=\"sk-estimator-id-1\" type=\"checkbox\" ><label for=\"sk-estimator-id-1\" class=\"sk-toggleable__label sk-toggleable__label-arrow\">RandomizedSearchCV</label><div class=\"sk-toggleable__content\"><pre>RandomizedSearchCV(cv=5,\n",
              "                   estimator=Pipeline(steps=[(&#x27;tfidf&#x27;, TfidfVectorizer()),\n",
              "                                             (&#x27;clf&#x27;, SVC())]),\n",
              "                   param_distributions={&#x27;clf__C&#x27;: array([1.e-03, 1.e-02, 1.e-01, 1.e+00, 1.e+01, 1.e+02, 1.e+03]),\n",
              "                                        &#x27;clf__gamma&#x27;: array([1.e-03, 1.e-02, 1.e-01, 1.e+00, 1.e+01, 1.e+02, 1.e+03]),\n",
              "                                        &#x27;tfidf__max_df&#x27;: (0.5, 0.75, 1.0),\n",
              "                                        &#x27;tfidf__min_df&#x27;: (1, 2),\n",
              "                                        &#x27;tfidf__ngram_range&#x27;: ((1, 1), (1, 2)),\n",
              "                                        &#x27;tfidf__norm&#x27;: (&#x27;l1&#x27;, &#x27;l2&#x27;),\n",
              "                                        &#x27;tfidf__use_idf&#x27;: (True, False)})</pre></div></div></div><div class=\"sk-parallel\"><div class=\"sk-parallel-item\"><div class=\"sk-item\"><div class=\"sk-label-container\"><div class=\"sk-label sk-toggleable\"><input class=\"sk-toggleable__control sk-hidden--visually\" id=\"sk-estimator-id-2\" type=\"checkbox\" ><label for=\"sk-estimator-id-2\" class=\"sk-toggleable__label sk-toggleable__label-arrow\">estimator: Pipeline</label><div class=\"sk-toggleable__content\"><pre>Pipeline(steps=[(&#x27;tfidf&#x27;, TfidfVectorizer()), (&#x27;clf&#x27;, SVC())])</pre></div></div></div><div class=\"sk-serial\"><div class=\"sk-item\"><div class=\"sk-serial\"><div class=\"sk-item\"><div class=\"sk-estimator sk-toggleable\"><input class=\"sk-toggleable__control sk-hidden--visually\" id=\"sk-estimator-id-3\" type=\"checkbox\" ><label for=\"sk-estimator-id-3\" class=\"sk-toggleable__label sk-toggleable__label-arrow\">TfidfVectorizer</label><div class=\"sk-toggleable__content\"><pre>TfidfVectorizer()</pre></div></div></div><div class=\"sk-item\"><div class=\"sk-estimator sk-toggleable\"><input class=\"sk-toggleable__control sk-hidden--visually\" id=\"sk-estimator-id-4\" type=\"checkbox\" ><label for=\"sk-estimator-id-4\" class=\"sk-toggleable__label sk-toggleable__label-arrow\">SVC</label><div class=\"sk-toggleable__content\"><pre>SVC()</pre></div></div></div></div></div></div></div></div></div></div></div></div>"
            ]
          },
          "metadata": {},
          "execution_count": 114
        }
      ],
      "source": [
        "# Xây dựng pipeline\n",
        "pipeline_svc = Pipeline([\n",
        "    ('tfidf', TfidfVectorizer()),\n",
        "    ('clf', SVC()),\n",
        "])\n",
        "\n",
        "param_dist_svc = {\n",
        "    'tfidf__max_df': (0.5, 0.75, 1.0),\n",
        "    'tfidf__min_df': (1, 2),\n",
        "    'tfidf__ngram_range': ((1, 1), (1, 2)),\n",
        "    'tfidf__use_idf': (True, False),\n",
        "    'tfidf__norm': ('l1', 'l2'),\n",
        "    'clf__C': np.logspace(-3, 3, 7),\n",
        "    'clf__gamma': np.logspace(-3, 3,7)\n",
        "}\n",
        "\n",
        "# Tìm các hyperparameters tốt trên svc và training data\n",
        "random_search_svc = RandomizedSearchCV(pipeline_svc,\n",
        "                                      param_distributions=param_dist_svc,\n",
        "                                      n_iter=10,\n",
        "                                      cv=5)\n",
        "\n",
        "# Train\n",
        "random_search_svc.fit(X_train, y_train)"
      ]
    },
    {
      "cell_type": "code",
      "execution_count": null,
      "metadata": {
        "id": "uG-vCdOY_Kj0",
        "colab": {
          "base_uri": "https://localhost:8080/"
        },
        "outputId": "b655045c-44ea-477e-ae35-23c1f1410367"
      },
      "outputs": [
        {
          "output_type": "execute_result",
          "data": {
            "text/plain": [
              "0.9983179142136249"
            ]
          },
          "metadata": {},
          "execution_count": 115
        }
      ],
      "source": [
        "# Score trên tập train\n",
        "random_search_svc.score(X_train, y_train)"
      ]
    },
    {
      "cell_type": "markdown",
      "source": [
        "## **2. Testing phase**"
      ],
      "metadata": {
        "id": "w2AfhbIyNm66"
      }
    },
    {
      "cell_type": "code",
      "execution_count": null,
      "metadata": {
        "id": "FCW-xe_a_WZj",
        "colab": {
          "base_uri": "https://localhost:8080/"
        },
        "outputId": "24d57b7b-959b-48fb-caed-696ed274a538"
      },
      "outputs": [
        {
          "output_type": "execute_result",
          "data": {
            "text/plain": [
              "0.8645833333333334"
            ]
          },
          "metadata": {},
          "execution_count": 120
        }
      ],
      "source": [
        "random_search_svc.score(X_test, y_test)"
      ]
    },
    {
      "cell_type": "code",
      "execution_count": null,
      "metadata": {
        "id": "orDmdCzu_b7v",
        "colab": {
          "base_uri": "https://localhost:8080/"
        },
        "outputId": "665099ff-dbe0-49ff-cc95-d76338d33a33"
      },
      "outputs": [
        {
          "output_type": "stream",
          "name": "stdout",
          "text": [
            "              precision    recall  f1-score   support\n",
            "\n",
            "           0       0.92      0.85      0.89      1124\n",
            "           1       0.79      0.88      0.83       700\n",
            "\n",
            "    accuracy                           0.86      1824\n",
            "   macro avg       0.86      0.87      0.86      1824\n",
            "weighted avg       0.87      0.86      0.87      1824\n",
            "\n"
          ]
        }
      ],
      "source": [
        "y_pred = random_search_svc.predict(X_test)\n",
        "print(classification_report(y_test, y_pred))"
      ]
    },
    {
      "cell_type": "code",
      "execution_count": null,
      "metadata": {
        "id": "hSu1BGJC_-Ld",
        "colab": {
          "base_uri": "https://localhost:8080/",
          "height": 497
        },
        "outputId": "3c18e103-01c5-4ad7-a706-481cf4ca6290"
      },
      "outputs": [
        {
          "output_type": "display_data",
          "data": {
            "text/plain": [
              "<Figure size 640x480 with 2 Axes>"
            ],
            "image/png": "[encoded data removed]"
          },
          "metadata": {}
        }
      ],
      "source": [
        "disp = ConfusionMatrixDisplay.from_predictions(y_test, y_pred)\n",
        "disp.figure_.suptitle(\"Confusion Matrix\")\n",
        "plt.show()"
      ]
    },
    {
      "cell_type": "markdown",
      "source": [
        "## **3. Find all wrong predictions**"
      ],
      "metadata": {
        "id": "ojF3bQGFN2RF"
      }
    },
    {
      "cell_type": "code",
      "execution_count": null,
      "metadata": {
        "id": "dm5sXihtACDd",
        "colab": {
          "base_uri": "https://localhost:8080/"
        },
        "outputId": "cc4b362e-79c7-4c04-b464-b4f5584d1ea6"
      },
      "outputs": [
        {
          "output_type": "stream",
          "name": "stdout",
          "text": [
            "Number of wrong predict:  247\n",
            "The first 50 headlines with wrong predictions:\n",
            "--------------------------------------------------\n",
            "' Sửng_sốt ' vì ô_tô mới mua không có lốp dự_phòng , lý_do là gì ?\n",
            "Predicted: (sarcasm) --vs-- Real label: (non sarcasm)\n",
            "--------------------------------------------------\n",
            "Đề_xuất tiền gửi ngân_hàng lãi_suất 0% gây sốc\n",
            "Predicted: (non sarcasm) --vs-- Real label: (sarcasm)\n",
            "--------------------------------------------------\n",
            "Singapore biến trường_đua ngựa duy_nhất thành nhà ở xã_hội\n",
            "Predicted: (sarcasm) --vs-- Real label: (non sarcasm)\n",
            "--------------------------------------------------\n",
            "Sinh_viên có việc_làm cao ngất_ngưởng , nhiều ngành đạt 100%\n",
            "Predicted: (non sarcasm) --vs-- Real label: (sarcasm)\n",
            "--------------------------------------------------\n",
            "PV độc_quyền Lucie_Nguyễn - Tuấn_Dương : \" Lan_Ngọc sẽ làm dâu phụ , mong Kỳ_Duyên - Minh_Triệu bắt ...\n",
            "Predicted: (non sarcasm) --vs-- Real label: (sarcasm)\n",
            "--------------------------------------------------\n",
            "Tài_xế công_nghệ tắt app hay chạy bộ\n",
            "Predicted: (non sarcasm) --vs-- Real label: (sarcasm)\n",
            "--------------------------------------------------\n",
            "U20 Việt_Nam tự răn mình trước trận gặp Iran\n",
            "Predicted: (non sarcasm) --vs-- Real label: (sarcasm)\n",
            "--------------------------------------------------\n",
            "Đạo_hiếu là thứ hoặc độc_hại hoặc thừa_thãi với đời_sống gia_đình lành_mạnh\n",
            "Predicted: (non sarcasm) --vs-- Real label: (sarcasm)\n",
            "--------------------------------------------------\n",
            "Cháy nhà ở Nha_Trang , 3 ông cháu tử vong\n",
            "Predicted: (sarcasm) --vs-- Real label: (non sarcasm)\n",
            "--------------------------------------------------\n",
            "Bộ_trưởng Anh ‘ phá lệ ’ , tiếp quan_chức cấp cao Đài_Loan\n",
            "Predicted: (non sarcasm) --vs-- Real label: (sarcasm)\n",
            "--------------------------------------------------\n",
            "Nhân_viên ' giãy đành_đạch ' không chịu đi làm quá 4 ngày / tuần\n",
            "Predicted: (sarcasm) --vs-- Real label: (non sarcasm)\n",
            "--------------------------------------------------\n",
            "LPBank và sứ_mệnh bảo_vệ quyền_lợi của khách_hàng\n",
            "Predicted: (sarcasm) --vs-- Real label: (non sarcasm)\n",
            "--------------------------------------------------\n",
            "Tiền_vệ Lê_Phạm_Thành_Long : ' Đứa con lưu_lạc ' của bầu Đức đã toả sáng\n",
            "Predicted: (sarcasm) --vs-- Real label: (non sarcasm)\n",
            "--------------------------------------------------\n",
            "Mất điện , coi_chừng mất luôn ' đại_bàng '\n",
            "Predicted: (sarcasm) --vs-- Real label: (non sarcasm)\n",
            "--------------------------------------------------\n",
            "Web cờ_bạc , cá_độ quảng_cáo công_khai - Tuổi Trẻ Online\n",
            "Predicted: (sarcasm) --vs-- Real label: (non sarcasm)\n",
            "--------------------------------------------------\n",
            "Gia_Đình Mình_Vui_Bất_Thình Lình : Con trai lại gây_chuyện khiến mẹ khóc nghẹn\n",
            "Predicted: (sarcasm) --vs-- Real label: (non sarcasm)\n",
            "--------------------------------------------------\n",
            "Hình_hài cột mốc số 0 nổi_tiếng ở Hà_Giang được cắm lại\n",
            "Predicted: (sarcasm) --vs-- Real label: (non sarcasm)\n",
            "--------------------------------------------------\n",
            "Hiện_trường lửa bao_trùm cây_xăng chỉ vì tàn thuốc_lá do khách làm rơi - Tuổi Trẻ Online\n",
            "Predicted: (sarcasm) --vs-- Real label: (non sarcasm)\n",
            "--------------------------------------------------\n",
            "Hãng xe Studebaker bị xoá_sổ 55 năm nhưng vẫn ' sống ' tới bây_giờ\n",
            "Predicted: (sarcasm) --vs-- Real label: (non sarcasm)\n",
            "--------------------------------------------------\n",
            "Nuôi đà_điểu châu_Phi ở Nga\n",
            "Predicted: (sarcasm) --vs-- Real label: (non sarcasm)\n",
            "--------------------------------------------------\n",
            "Gia_cảnh đáng thương của cậu bé 7 tuổi có tới 3 đời cha_mẹ\n",
            "Predicted: (sarcasm) --vs-- Real label: (non sarcasm)\n",
            "--------------------------------------------------\n",
            "' The_Flash ' ra rạp , khởi_động lại ‘ Vũ_trụ DC ’\n",
            "Predicted: (sarcasm) --vs-- Real label: (non sarcasm)\n",
            "--------------------------------------------------\n",
            "Tiền học thêm gấp đôi học_phí : Khoản nào tiền đúng , khoản gì tiền sai ?\n",
            "Predicted: (non sarcasm) --vs-- Real label: (sarcasm)\n",
            "--------------------------------------------------\n",
            "2 người cởi trần tắm ở hồ Gươm là đàn_ông , không phải phụ_nữ\n",
            "Predicted: (sarcasm) --vs-- Real label: (non sarcasm)\n",
            "--------------------------------------------------\n",
            "Biến ' house ' thành ' home ' với nhà ở cho gia_đình nhiều thế_hệ\n",
            "Predicted: (sarcasm) --vs-- Real label: (non sarcasm)\n",
            "--------------------------------------------------\n",
            "Truyện_ngắn : Tay muốn chạm tay\n",
            "Predicted: (sarcasm) --vs-- Real label: (non sarcasm)\n",
            "--------------------------------------------------\n",
            "' Chạy_đua ' làm công dân Việt_Nam thứ 100 triệu\n",
            "Predicted: (non sarcasm) --vs-- Real label: (sarcasm)\n",
            "--------------------------------------------------\n",
            "Thái_Lan thử_nghiệm dùng máy_bay không người lái đưa thuốc ra đảo\n",
            "Predicted: (sarcasm) --vs-- Real label: (non sarcasm)\n",
            "--------------------------------------------------\n",
            "‘ Mịt_mù tuyết bay ’ - tập truyện_ngắn hay\n",
            "Predicted: (sarcasm) --vs-- Real label: (non sarcasm)\n",
            "--------------------------------------------------\n",
            "' Thả bom ' không đúng chỗ , làm_sao thoát kiếp nạn này ?\n",
            "Predicted: (non sarcasm) --vs-- Real label: (sarcasm)\n",
            "--------------------------------------------------\n",
            "Nhặt được chiếc túi_xách , Thượng_uý Công_an tìm và trao_trả người đánh_rơi\n",
            "Predicted: (sarcasm) --vs-- Real label: (non sarcasm)\n",
            "--------------------------------------------------\n",
            "Nhạc_sĩ Khắc_Huề : Nhạc tiền_chiến đã từng ăn_khách\n",
            "Predicted: (sarcasm) --vs-- Real label: (non sarcasm)\n",
            "--------------------------------------------------\n",
            "Kroos dùng Hazard để cảnh_báo Jude_Bellingham\n",
            "Predicted: (sarcasm) --vs-- Real label: (non sarcasm)\n",
            "--------------------------------------------------\n",
            "Phát_hiện dấu_tích loài khủng_long mỏ_vịt tại Chile\n",
            "Predicted: (sarcasm) --vs-- Real label: (non sarcasm)\n",
            "--------------------------------------------------\n",
            "Lễ bốc_thăm và xếp lịch thi_đấu vòng chung_kết\n",
            "Predicted: (sarcasm) --vs-- Real label: (non sarcasm)\n",
            "--------------------------------------------------\n",
            "Người cha lái_xe tìm con gái khắp Bình_Dương : ‘ Đã liên_lạc được nhưng con chưa về '\n",
            "Predicted: (sarcasm) --vs-- Real label: (non sarcasm)\n",
            "--------------------------------------------------\n",
            "Khu_phố văn_hoá , nói không với các loại ' rác '\n",
            "Predicted: (non sarcasm) --vs-- Real label: (sarcasm)\n",
            "--------------------------------------------------\n",
            "Gas tăng , xăng giảm và đơn đặt_hàng từ bà vợ\n",
            "Predicted: (non sarcasm) --vs-- Real label: (sarcasm)\n",
            "--------------------------------------------------\n",
            "Khởi_tố hai cha_con tấn_công cảnh_sát giao_thông\n",
            "Predicted: (sarcasm) --vs-- Real label: (non sarcasm)\n",
            "--------------------------------------------------\n",
            "Cát_Phượng công_khai bạn trai Việt_kiều : Nhiều người chửi tôi ‘ già mà ngu ’\n",
            "Predicted: (sarcasm) --vs-- Real label: (non sarcasm)\n",
            "--------------------------------------------------\n",
            "Khám_phá cuộc_sống ' sang chảnh ' ở biệt_thự cảnh_quan tại Phú_Mỹ_Hưng\n",
            "Predicted: (sarcasm) --vs-- Real label: (non sarcasm)\n",
            "--------------------------------------------------\n",
            "Phía sau một cuộc họp online nghiêm_túc\n",
            "Predicted: (non sarcasm) --vs-- Real label: (sarcasm)\n",
            "--------------------------------------------------\n",
            "Đại_dịch Corona làm con_người hay mơ giấc mơ kỳ_quái\n",
            "Predicted: (non sarcasm) --vs-- Real label: (sarcasm)\n",
            "--------------------------------------------------\n",
            "Ai cần làm xét_nghiệm gout ?\n",
            "Predicted: (sarcasm) --vs-- Real label: (non sarcasm)\n",
            "--------------------------------------------------\n",
            "Lạm_dụng vitamin A liều cao , coi_chừng ngộ_độc\n",
            "Predicted: (sarcasm) --vs-- Real label: (non sarcasm)\n",
            "--------------------------------------------------\n",
            "Mắc mệt vì xem những người đẹp cãi_vã kiểu ' thái_độ hơn trình_độ '\n",
            "Predicted: (sarcasm) --vs-- Real label: (non sarcasm)\n",
            "--------------------------------------------------\n",
            "Cảnh_sát theo_dõi ' trùm ' sản_xuất ma_tuý ở Sài_Gòn suốt 2 năm\n",
            "Predicted: (sarcasm) --vs-- Real label: (non sarcasm)\n",
            "--------------------------------------------------\n",
            "Cứu cô gái mắc_kẹt trong khe hẹp giữa hai bức tường vì đi kiếm con mèo - Tuổi Trẻ Online\n",
            "Predicted: (sarcasm) --vs-- Real label: (non sarcasm)\n",
            "--------------------------------------------------\n",
            "' VieON by DatVietVAC ' - ghi dấu tuổi lên 3 rực_rỡ\n",
            "Predicted: (sarcasm) --vs-- Real label: (non sarcasm)\n",
            "--------------------------------------------------\n",
            "Ngôi nhà treo rèm tre dọc ban_công\n",
            "Predicted: (sarcasm) --vs-- Real label: (non sarcasm)\n"
          ]
        }
      ],
      "source": [
        "X_test, y_test = np.array(X_test), np.array(y_test)\n",
        "class_names = ['non sarcasm', 'sarcasm']\n",
        "def check_wrong(y_test, y_pred, df):\n",
        "    wrong_true_labels = []\n",
        "    wrong_pred_labels = []\n",
        "    wrong_txts = []\n",
        "    for i in range(len(y_pred)):\n",
        "        if y_pred[i] != y_test[i]:\n",
        "            wrong_true_labels.append(y_test[i])\n",
        "            wrong_pred_labels.append(y_pred[i])\n",
        "            wrong_txts.append(df.iloc[i].headline)\n",
        "    return wrong_true_labels, wrong_pred_labels, wrong_txts\n",
        "\n",
        "wrong_true_labels, wrong_pred_labels, wrong_txts = check_wrong(y_test, y_pred, test_df)\n",
        "svm_wrong_headline = []\n",
        "print(\"Number of wrong predict: \", len(wrong_true_labels))\n",
        "print(\"The first 50 headlines with wrong predictions:\")\n",
        "\n",
        "for i in range(50):\n",
        "    print('-'*50)\n",
        "    svm_wrong_headline.append(wrong_txts[i])\n",
        "    print(wrong_txts[i])\n",
        "    print(f'Predicted: ({class_names[wrong_pred_labels[i]]}) --vs-- Real label: ({class_names[wrong_true_labels[i]]})')"
      ]
    },
    {
      "cell_type": "markdown",
      "source": [
        "**Nhận xét các câu dự đoán sai dự trên phương pháp sử dụng SVM**\n",
        "- Theo nhóm chúng em quan sát, có nhưng câu chính tụi em cũng không biết nó là châm biếm hay không châm biếm, nên việc model dự đoán sai cũng có thể chấp nhận được\n",
        "  *  Ví dụ:' Sửng_sốt ' vì ô_tô mới mua không có lốp dự_phòng , lý_do là gì ?\n",
        "Predicted: (sarcasm) --vs-- Real label: (non sarcasm)\n",
        "  *  Tiền học thêm gấp đôi học_phí : Khoản nào tiền đúng , khoản gì tiền sai ?\n",
        "Predicted: (non sarcasm) --vs-- Real label: (sarcasm)\n",
        "- Nhưng bên cạnh đó, cũng có nhưng câu có thể bị label sai, ví dụ như:\n",
        "  *  Ví dụ: Nhân_viên ' giãy đành_đạch ' không chịu đi làm quá 4 ngày / tuần\n",
        "Predicted: (sarcasm) --vs-- Real label: (non sarcasm)\n"
      ],
      "metadata": {
        "id": "A_b82tlnuyxw"
      }
    },
    {
      "cell_type": "markdown",
      "source": [
        "# **III. Logistic regression**\n",
        "1. Preprocess: Segment word với vncorenlp\n",
        "2. Pipeline: sử dụng TfidfVectorizer để chuyển đổi dữ liệu văn bản thành ma trận TF-IDF\n",
        "3. Classifier: Logistic Regression"
      ],
      "metadata": {
        "id": "T6SoQH47P2M4"
      }
    },
    {
      "cell_type": "code",
      "source": [
        "from sklearn.linear_model import LogisticRegression"
      ],
      "metadata": {
        "id": "3Y69jlJPP8dx"
      },
      "execution_count": null,
      "outputs": []
    },
    {
      "cell_type": "markdown",
      "source": [
        "## **1. Training phase**"
      ],
      "metadata": {
        "id": "TW-5lElpRx8Y"
      }
    },
    {
      "cell_type": "code",
      "source": [
        "from scipy.stats import loguniform\n",
        "\n",
        "# Xây dựng pipeline\n",
        "pipeline_log_reg = Pipeline([\n",
        "    ('tfidf', TfidfVectorizer()),\n",
        "    ('clf', LogisticRegression()),\n",
        "])\n",
        "\n",
        "# Train\n",
        "pipeline_log_reg.fit(X_train, y_train)"
      ],
      "metadata": {
        "id": "DgwW35u0Qom4",
        "colab": {
          "base_uri": "https://localhost:8080/",
          "height": 126
        },
        "outputId": "4cf13ca6-24b7-4dc3-a249-dcc522252630"
      },
      "execution_count": null,
      "outputs": [
        {
          "output_type": "execute_result",
          "data": {
            "text/plain": [
              "Pipeline(steps=[('tfidf', TfidfVectorizer()), ('clf', LogisticRegression())])"
            ],
            "text/html": [
              "<style>#sk-container-id-2 {color: black;background-color: white;}#sk-container-id-2 pre{padding: 0;}#sk-container-id-2 div.sk-toggleable {background-color: white;}#sk-container-id-2 label.sk-toggleable__label {cursor: pointer;display: block;width: 100%;margin-bottom: 0;padding: 0.3em;box-sizing: border-box;text-align: center;}#sk-container-id-2 label.sk-toggleable__label-arrow:before {content: \"▸\";float: left;margin-right: 0.25em;color: #696969;}#sk-container-id-2 label.sk-toggleable__label-arrow:hover:before {color: black;}#sk-container-id-2 div.sk-estimator:hover label.sk-toggleable__label-arrow:before {color: black;}#sk-container-id-2 div.sk-toggleable__content {max-height: 0;max-width: 0;overflow: hidden;text-align: left;background-color: #f0f8ff;}#sk-container-id-2 div.sk-toggleable__content pre {margin: 0.2em;color: black;border-radius: 0.25em;background-color: #f0f8ff;}#sk-container-id-2 input.sk-toggleable__control:checked~div.sk-toggleable__content {max-height: 200px;max-width: 100%;overflow: auto;}#sk-container-id-2 input.sk-toggleable__control:checked~label.sk-toggleable__label-arrow:before {content: \"▾\";}#sk-container-id-2 div.sk-estimator input.sk-toggleable__control:checked~label.sk-toggleable__label {background-color: #d4ebff;}#sk-container-id-2 div.sk-label input.sk-toggleable__control:checked~label.sk-toggleable__label {background-color: #d4ebff;}#sk-container-id-2 input.sk-hidden--visually {border: 0;clip: rect(1px 1px 1px 1px);clip: rect(1px, 1px, 1px, 1px);height: 1px;margin: -1px;overflow: hidden;padding: 0;position: absolute;width: 1px;}#sk-container-id-2 div.sk-estimator {font-family: monospace;background-color: #f0f8ff;border: 1px dotted black;border-radius: 0.25em;box-sizing: border-box;margin-bottom: 0.5em;}#sk-container-id-2 div.sk-estimator:hover {background-color: #d4ebff;}#sk-container-id-2 div.sk-parallel-item::after {content: \"\";width: 100%;border-bottom: 1px solid gray;flex-grow: 1;}#sk-container-id-2 div.sk-label:hover label.sk-toggleable__label {background-color: #d4ebff;}#sk-container-id-2 div.sk-serial::before {content: \"\";position: absolute;border-left: 1px solid gray;box-sizing: border-box;top: 0;bottom: 0;left: 50%;z-index: 0;}#sk-container-id-2 div.sk-serial {display: flex;flex-direction: column;align-items: center;background-color: white;padding-right: 0.2em;padding-left: 0.2em;position: relative;}#sk-container-id-2 div.sk-item {position: relative;z-index: 1;}#sk-container-id-2 div.sk-parallel {display: flex;align-items: stretch;justify-content: center;background-color: white;position: relative;}#sk-container-id-2 div.sk-item::before, #sk-container-id-2 div.sk-parallel-item::before {content: \"\";position: absolute;border-left: 1px solid gray;box-sizing: border-box;top: 0;bottom: 0;left: 50%;z-index: -1;}#sk-container-id-2 div.sk-parallel-item {display: flex;flex-direction: column;z-index: 1;position: relative;background-color: white;}#sk-container-id-2 div.sk-parallel-item:first-child::after {align-self: flex-end;width: 50%;}#sk-container-id-2 div.sk-parallel-item:last-child::after {align-self: flex-start;width: 50%;}#sk-container-id-2 div.sk-parallel-item:only-child::after {width: 0;}#sk-container-id-2 div.sk-dashed-wrapped {border: 1px dashed gray;margin: 0 0.4em 0.5em 0.4em;box-sizing: border-box;padding-bottom: 0.4em;background-color: white;}#sk-container-id-2 div.sk-label label {font-family: monospace;font-weight: bold;display: inline-block;line-height: 1.2em;}#sk-container-id-2 div.sk-label-container {text-align: center;}#sk-container-id-2 div.sk-container {/* jupyter's `normalize.less` sets `[hidden] { display: none; }` but bootstrap.min.css set `[hidden] { display: none !important; }` so we also need the `!important` here to be able to override the default hidden behavior on the sphinx rendered scikit-learn.org. See: https://github.com/scikit-learn/scikit-learn/issues/21755 */display: inline-block !important;position: relative;}#sk-container-id-2 div.sk-text-repr-fallback {display: none;}</style><div id=\"sk-container-id-2\" class=\"sk-top-container\"><div class=\"sk-text-repr-fallback\"><pre>Pipeline(steps=[(&#x27;tfidf&#x27;, TfidfVectorizer()), (&#x27;clf&#x27;, LogisticRegression())])</pre><b>In a Jupyter environment, please rerun this cell to show the HTML representation or trust the notebook. <br />On GitHub, the HTML representation is unable to render, please try loading this page with nbviewer.org.</b></div><div class=\"sk-container\" hidden><div class=\"sk-item sk-dashed-wrapped\"><div class=\"sk-label-container\"><div class=\"sk-label sk-toggleable\"><input class=\"sk-toggleable__control sk-hidden--visually\" id=\"sk-estimator-id-5\" type=\"checkbox\" ><label for=\"sk-estimator-id-5\" class=\"sk-toggleable__label sk-toggleable__label-arrow\">Pipeline</label><div class=\"sk-toggleable__content\"><pre>Pipeline(steps=[(&#x27;tfidf&#x27;, TfidfVectorizer()), (&#x27;clf&#x27;, LogisticRegression())])</pre></div></div></div><div class=\"sk-serial\"><div class=\"sk-item\"><div class=\"sk-estimator sk-toggleable\"><input class=\"sk-toggleable__control sk-hidden--visually\" id=\"sk-estimator-id-6\" type=\"checkbox\" ><label for=\"sk-estimator-id-6\" class=\"sk-toggleable__label sk-toggleable__label-arrow\">TfidfVectorizer</label><div class=\"sk-toggleable__content\"><pre>TfidfVectorizer()</pre></div></div></div><div class=\"sk-item\"><div class=\"sk-estimator sk-toggleable\"><input class=\"sk-toggleable__control sk-hidden--visually\" id=\"sk-estimator-id-7\" type=\"checkbox\" ><label for=\"sk-estimator-id-7\" class=\"sk-toggleable__label sk-toggleable__label-arrow\">LogisticRegression</label><div class=\"sk-toggleable__content\"><pre>LogisticRegression()</pre></div></div></div></div></div></div></div>"
            ]
          },
          "metadata": {},
          "execution_count": 126
        }
      ]
    },
    {
      "cell_type": "code",
      "source": [
        "# Score trên tập train\n",
        "pipeline_log_reg.score(X_train, y_train)"
      ],
      "metadata": {
        "id": "vVYmthvqRWsB",
        "colab": {
          "base_uri": "https://localhost:8080/"
        },
        "outputId": "b73ab55c-b037-4d28-fd9f-55a23ee8884f"
      },
      "execution_count": null,
      "outputs": [
        {
          "output_type": "execute_result",
          "data": {
            "text/plain": [
              "0.9319956746365493"
            ]
          },
          "metadata": {},
          "execution_count": 128
        }
      ]
    },
    {
      "cell_type": "markdown",
      "source": [
        "## **2. Testing phase**"
      ],
      "metadata": {
        "id": "EfJVadu5RjGU"
      }
    },
    {
      "cell_type": "code",
      "source": [
        "pipeline_log_reg.score(X_test, y_test)"
      ],
      "metadata": {
        "id": "s6o_Xsd8RaSZ",
        "colab": {
          "base_uri": "https://localhost:8080/"
        },
        "outputId": "a173ec8a-c7b7-4155-917a-7e5241823c8d"
      },
      "execution_count": null,
      "outputs": [
        {
          "output_type": "execute_result",
          "data": {
            "text/plain": [
              "0.8229166666666666"
            ]
          },
          "metadata": {},
          "execution_count": 129
        }
      ]
    },
    {
      "cell_type": "code",
      "source": [
        "y_pred = pipeline_log_reg.predict(X_test)\n",
        "print(classification_report(y_test, y_pred))"
      ],
      "metadata": {
        "id": "_xA2ydbhRcjk",
        "colab": {
          "base_uri": "https://localhost:8080/"
        },
        "outputId": "5f017875-d475-4c7b-9b3e-523a75adf885"
      },
      "execution_count": null,
      "outputs": [
        {
          "output_type": "stream",
          "name": "stdout",
          "text": [
            "              precision    recall  f1-score   support\n",
            "\n",
            "           0       0.83      0.90      0.86      1124\n",
            "           1       0.81      0.70      0.75       700\n",
            "\n",
            "    accuracy                           0.82      1824\n",
            "   macro avg       0.82      0.80      0.81      1824\n",
            "weighted avg       0.82      0.82      0.82      1824\n",
            "\n"
          ]
        }
      ]
    },
    {
      "cell_type": "code",
      "source": [
        "disp = ConfusionMatrixDisplay.from_predictions(y_test, y_pred)\n",
        "disp.figure_.suptitle(\"Confusion Matrix\")\n",
        "plt.show()"
      ],
      "metadata": {
        "id": "F20xGj-PRd-p",
        "colab": {
          "base_uri": "https://localhost:8080/",
          "height": 497
        },
        "outputId": "b757fe78-b35a-425c-9ae9-95dd66e65a40"
      },
      "execution_count": null,
      "outputs": [
        {
          "output_type": "display_data",
          "data": {
            "text/plain": [
              "<Figure size 640x480 with 2 Axes>"
            ],
            "image/png": "[encoded data removed]"
          },
          "metadata": {}
        }
      ]
    },
    {
      "cell_type": "markdown",
      "source": [
        "## **3. Find wrong predictions**"
      ],
      "metadata": {
        "id": "_DvIYuITRsxb"
      }
    },
    {
      "cell_type": "code",
      "source": [
        "X_test, y_test = np.array(X_test), np.array(y_test)\n",
        "class_names = ['non sarcasm', 'sarcasm']\n",
        "def check_wrong(y_test, y_pred, df):\n",
        "    wrong_true_labels = []\n",
        "    wrong_pred_labels = []\n",
        "    wrong_txts = []\n",
        "    for i in range(len(y_pred)):\n",
        "        if y_pred[i] != y_test[i]:\n",
        "            wrong_true_labels.append(y_test[i])\n",
        "            wrong_pred_labels.append(y_pred[i])\n",
        "            wrong_txts.append(df.iloc[i].headline)\n",
        "    return wrong_true_labels, wrong_pred_labels, wrong_txts\n",
        "\n",
        "wrong_true_labels, wrong_pred_labels, wrong_txts = check_wrong(y_test, y_pred, test_df)\n",
        "svm_wrong_headline = []\n",
        "print(\"Number of wrong predict: \", len(wrong_true_labels))\n",
        "print(\"The first 50 headlines with wrong predictions:\")\n",
        "\n",
        "for i in range(50):\n",
        "    print('-'*50)\n",
        "    svm_wrong_headline.append(wrong_txts[i])\n",
        "    print(wrong_txts[i])\n",
        "    print(f'Predicted: ({class_names[wrong_pred_labels[i]]}) --vs-- Real label: ({class_names[wrong_true_labels[i]]})')"
      ],
      "metadata": {
        "id": "1sJAdaaPRf3g",
        "colab": {
          "base_uri": "https://localhost:8080/"
        },
        "outputId": "ff8b90ff-52e6-4bf2-f5fa-0fe99756d926"
      },
      "execution_count": null,
      "outputs": [
        {
          "output_type": "stream",
          "name": "stdout",
          "text": [
            "Number of wrong predict:  323\n",
            "The first 50 headlines with wrong predictions:\n",
            "--------------------------------------------------\n",
            "Tiệc cưới xu_hướng mới\n",
            "Predicted: (non sarcasm) --vs-- Real label: (sarcasm)\n",
            "--------------------------------------------------\n",
            "Người thu_nhập thấp méo_mặt với định_luật vạn_vật hấp_dẫn\n",
            "Predicted: (non sarcasm) --vs-- Real label: (sarcasm)\n",
            "--------------------------------------------------\n",
            "Anh lần đầu thử_nghiệm xe_buýt không người lái\n",
            "Predicted: (non sarcasm) --vs-- Real label: (sarcasm)\n",
            "--------------------------------------------------\n",
            "' Sửng_sốt ' vì ô_tô mới mua không có lốp dự_phòng , lý_do là gì ?\n",
            "Predicted: (sarcasm) --vs-- Real label: (non sarcasm)\n",
            "--------------------------------------------------\n",
            "Đề_xuất tiền gửi ngân_hàng lãi_suất 0% gây sốc\n",
            "Predicted: (non sarcasm) --vs-- Real label: (sarcasm)\n",
            "--------------------------------------------------\n",
            "Singapore biến trường_đua ngựa duy_nhất thành nhà ở xã_hội\n",
            "Predicted: (sarcasm) --vs-- Real label: (non sarcasm)\n",
            "--------------------------------------------------\n",
            "Sinh_viên có việc_làm cao ngất_ngưởng , nhiều ngành đạt 100%\n",
            "Predicted: (non sarcasm) --vs-- Real label: (sarcasm)\n",
            "--------------------------------------------------\n",
            "Lan đột_biến giảm_giá 1 triệu lần vẫn ế !\n",
            "Predicted: (non sarcasm) --vs-- Real label: (sarcasm)\n",
            "--------------------------------------------------\n",
            "PV độc_quyền Lucie_Nguyễn - Tuấn_Dương : \" Lan_Ngọc sẽ làm dâu phụ , mong Kỳ_Duyên - Minh_Triệu bắt ...\n",
            "Predicted: (non sarcasm) --vs-- Real label: (sarcasm)\n",
            "--------------------------------------------------\n",
            "Sự nhiệt_tình thiếu kĩ_năng của đám đông ?\n",
            "Predicted: (non sarcasm) --vs-- Real label: (sarcasm)\n",
            "--------------------------------------------------\n",
            "Tài_xế công_nghệ tắt app hay chạy bộ\n",
            "Predicted: (non sarcasm) --vs-- Real label: (sarcasm)\n",
            "--------------------------------------------------\n",
            "U20 Việt_Nam tự răn mình trước trận gặp Iran\n",
            "Predicted: (non sarcasm) --vs-- Real label: (sarcasm)\n",
            "--------------------------------------------------\n",
            "Đạo_hiếu là thứ hoặc độc_hại hoặc thừa_thãi với đời_sống gia_đình lành_mạnh\n",
            "Predicted: (non sarcasm) --vs-- Real label: (sarcasm)\n",
            "--------------------------------------------------\n",
            "Cháy nhà ở Nha_Trang , 3 ông cháu tử vong\n",
            "Predicted: (sarcasm) --vs-- Real label: (non sarcasm)\n",
            "--------------------------------------------------\n",
            "Bộ_trưởng Anh ‘ phá lệ ’ , tiếp quan_chức cấp cao Đài_Loan\n",
            "Predicted: (non sarcasm) --vs-- Real label: (sarcasm)\n",
            "--------------------------------------------------\n",
            "Nhân_viên ' giãy đành_đạch ' không chịu đi làm quá 4 ngày / tuần\n",
            "Predicted: (sarcasm) --vs-- Real label: (non sarcasm)\n",
            "--------------------------------------------------\n",
            "Thanh_niên tăng cả trăm ký sau khi làm clip mukbang\n",
            "Predicted: (non sarcasm) --vs-- Real label: (sarcasm)\n",
            "--------------------------------------------------\n",
            "Tiền_vệ Lê_Phạm_Thành_Long : ' Đứa con lưu_lạc ' của bầu Đức đã toả sáng\n",
            "Predicted: (sarcasm) --vs-- Real label: (non sarcasm)\n",
            "--------------------------------------------------\n",
            "Năm nay sĩ_tử Hà_Nội không xoa đầu rùa cầu_may\n",
            "Predicted: (non sarcasm) --vs-- Real label: (sarcasm)\n",
            "--------------------------------------------------\n",
            "Đắc nhân_tâm : Một_nửa sự_thật là toàn_bộ dối_trá\n",
            "Predicted: (non sarcasm) --vs-- Real label: (sarcasm)\n",
            "--------------------------------------------------\n",
            "Đỗ ô_tô tại ngã tư , nữ tài_xế còn thách_thức : ' Thích đậu đó , được không ? '\n",
            "Predicted: (sarcasm) --vs-- Real label: (non sarcasm)\n",
            "--------------------------------------------------\n",
            "Chuyện giảm cân : Nặng người , nhẹ_dạ\n",
            "Predicted: (non sarcasm) --vs-- Real label: (sarcasm)\n",
            "--------------------------------------------------\n",
            "4 tiếp_viên hàng_không vận_chuyển gần 10kg thuốc lắc\n",
            "Predicted: (non sarcasm) --vs-- Real label: (sarcasm)\n",
            "--------------------------------------------------\n",
            "Gia_Đình Mình_Vui_Bất_Thình Lình : Con trai lại gây_chuyện khiến mẹ khóc nghẹn\n",
            "Predicted: (sarcasm) --vs-- Real label: (non sarcasm)\n",
            "--------------------------------------------------\n",
            "Giữa đêm hai anh_trai bỏ chạy sấp_mặt vì em_gái báo quá báo\n",
            "Predicted: (non sarcasm) --vs-- Real label: (sarcasm)\n",
            "--------------------------------------------------\n",
            "Công_ty TNHH một thành_viên ... một cục\n",
            "Predicted: (non sarcasm) --vs-- Real label: (sarcasm)\n",
            "--------------------------------------------------\n",
            "Hyatt và American_Airlines \" đãi \" toàn_bộ nhân_viên một bệnh_viện kỳ nghỉ_mát miễn_phí !\n",
            "Predicted: (non sarcasm) --vs-- Real label: (sarcasm)\n",
            "--------------------------------------------------\n",
            "Hiện_trường lửa bao_trùm cây_xăng chỉ vì tàn thuốc_lá do khách làm rơi - Tuổi Trẻ Online\n",
            "Predicted: (sarcasm) --vs-- Real label: (non sarcasm)\n",
            "--------------------------------------------------\n",
            "Làng Ngao_Sò kiểm_tra năng_lực\n",
            "Predicted: (non sarcasm) --vs-- Real label: (sarcasm)\n",
            "--------------------------------------------------\n",
            "[ Video ] Thách đấu bóng_bàn với nhà vô_địch SEA_Games 32 Đinh_Anh_Hoàng và Trần_Mai_Ngọc\n",
            "Predicted: (sarcasm) --vs-- Real label: (non sarcasm)\n",
            "--------------------------------------------------\n",
            "Hãng xe Studebaker bị xoá_sổ 55 năm nhưng vẫn ' sống ' tới bây_giờ\n",
            "Predicted: (sarcasm) --vs-- Real label: (non sarcasm)\n",
            "--------------------------------------------------\n",
            "Gia_cảnh đáng thương của cậu bé 7 tuổi có tới 3 đời cha_mẹ\n",
            "Predicted: (sarcasm) --vs-- Real label: (non sarcasm)\n",
            "--------------------------------------------------\n",
            "' The_Flash ' ra rạp , khởi_động lại ‘ Vũ_trụ DC ’\n",
            "Predicted: (sarcasm) --vs-- Real label: (non sarcasm)\n",
            "--------------------------------------------------\n",
            "Tiền học thêm gấp đôi học_phí : Khoản nào tiền đúng , khoản gì tiền sai ?\n",
            "Predicted: (non sarcasm) --vs-- Real label: (sarcasm)\n",
            "--------------------------------------------------\n",
            "2 người cởi trần tắm ở hồ Gươm là đàn_ông , không phải phụ_nữ\n",
            "Predicted: (sarcasm) --vs-- Real label: (non sarcasm)\n",
            "--------------------------------------------------\n",
            "Biến ' house ' thành ' home ' với nhà ở cho gia_đình nhiều thế_hệ\n",
            "Predicted: (sarcasm) --vs-- Real label: (non sarcasm)\n",
            "--------------------------------------------------\n",
            "' Chạy_đua ' làm công dân Việt_Nam thứ 100 triệu\n",
            "Predicted: (non sarcasm) --vs-- Real label: (sarcasm)\n",
            "--------------------------------------------------\n",
            "Singapore là quốc_gia đầu_tiên cho_phép bán thịt nhân_tạo\n",
            "Predicted: (non sarcasm) --vs-- Real label: (sarcasm)\n",
            "--------------------------------------------------\n",
            "Làm_bạn với ' cá ' , coi_chừng mất xác\n",
            "Predicted: (non sarcasm) --vs-- Real label: (sarcasm)\n",
            "--------------------------------------------------\n",
            "Hành_trình ' thoát ế ' hài_hước của thanh_niên Trung_Quốc\n",
            "Predicted: (non sarcasm) --vs-- Real label: (sarcasm)\n",
            "--------------------------------------------------\n",
            "Nhật_Bản - Costa_Rica : Samurai ... ' đai ' trong tích_tắc\n",
            "Predicted: (non sarcasm) --vs-- Real label: (sarcasm)\n",
            "--------------------------------------------------\n",
            "Những tác_hại của thuốc_lá - Phần 1\n",
            "Predicted: (non sarcasm) --vs-- Real label: (sarcasm)\n",
            "--------------------------------------------------\n",
            "10 liên_tưởng vui về tiền phạt vi_phạm quy_định phòng_chống dịch\n",
            "Predicted: (non sarcasm) --vs-- Real label: (sarcasm)\n",
            "--------------------------------------------------\n",
            "Xe_buýt hệ ...Fast & Furious\n",
            "Predicted: (non sarcasm) --vs-- Real label: (sarcasm)\n",
            "--------------------------------------------------\n",
            "Cô_dâu , chú_rể bốc cháy ngùn_ngụt trong đám_cưới\n",
            "Predicted: (non sarcasm) --vs-- Real label: (sarcasm)\n",
            "--------------------------------------------------\n",
            "' Thả bom ' không đúng chỗ , làm_sao thoát kiếp nạn này ?\n",
            "Predicted: (non sarcasm) --vs-- Real label: (sarcasm)\n",
            "--------------------------------------------------\n",
            "Nhạc_sĩ Khắc_Huề : Nhạc tiền_chiến đã từng ăn_khách\n",
            "Predicted: (sarcasm) --vs-- Real label: (non sarcasm)\n",
            "--------------------------------------------------\n",
            "Tuyển nữ Việt_Nam sẽ lên màn_ảnh sau khi dự World_Cup\n",
            "Predicted: (sarcasm) --vs-- Real label: (non sarcasm)\n",
            "--------------------------------------------------\n",
            "Lễ bốc_thăm và xếp lịch thi_đấu vòng chung_kết\n",
            "Predicted: (sarcasm) --vs-- Real label: (non sarcasm)\n",
            "--------------------------------------------------\n",
            "Người cha lái_xe tìm con gái khắp Bình_Dương : ‘ Đã liên_lạc được nhưng con chưa về '\n",
            "Predicted: (sarcasm) --vs-- Real label: (non sarcasm)\n"
          ]
        }
      ]
    },
    {
      "cell_type": "markdown",
      "source": [
        "**Nhận xét các câu dự đoán sai dự trên phương pháp sử dụng Logistic Regression**\n",
        "- Theo nhóm chúng em quan sát, có nhưng câu chính tụi em cũng không biết nó là châm biếm hay không châm biếm, nên việc model dự đoán sai cũng có thể chấp nhận được\n",
        "  *  Ví dụ: Thanh_niên tăng cả trăm ký sau khi làm clip mukbang\n",
        "Predicted: (non sarcasm) --vs-- Real label: (sarcasm)\n",
        "=> Predicted: (non sarcasm) --vs-- Real label: (sarcasm)\n",
        "  *  Ví dụ: ' Sửng_sốt ' vì ô_tô mới mua không có lốp dự_phòng , lý_do là gì ?\n",
        "Predicted: (sarcasm) --vs-- Real label: (non sarcasm)\n",
        "- Nhưng bên cạnh đó, cũng có nhưng câu có thể bị label sai, ví dụ như:\n",
        "  *  Ví dụ: Anh lần đầu thử_nghiệm xe_buýt không người lái\n",
        "Predicted: (non sarcasm) --vs-- Real label: (sarcasm)\n",
        "=> Predicted: (non sarcasm) --vs-- Real label: (sarcasm)\n",
        "  *  Ví dụ: Nhân_viên ' giãy đành_đạch ' không chịu đi làm quá 4 ngày / tuần\n",
        "Predicted: (sarcasm) --vs-- Real label: (non sarcasm)\n"
      ],
      "metadata": {
        "id": "u_ykR4D_y8BO"
      }
    },
    {
      "cell_type": "markdown",
      "metadata": {
        "id": "l42E6CvBDScD"
      },
      "source": [
        "# **Nhận Xét**\n",
        "- Cả 3 phương pháp đều dự đoán trên bộ test\n",
        "- Ở phương pháp sử dụng: Phobert-base với AutoModel (Tổng là 1824 câu test)\n",
        "  *  Tập dựa đoán sai là 193 câu\n",
        "- Ở phương pháp sử dụng: Logistic Regression (Tổng là 1824 câu test)\n",
        "  *  Tập dựa đoán sai là 323 câu\n",
        "- Ở phương pháp sử dụng: Pipeline, RandomizedSearchCV và SVM (Tổng là 1824 câu test)\n",
        "  *  Tập dựa đoán sai là 247 câu\n",
        "- Performance Metric:\n",
        "  *  Sử dụng Phobert-base với AutoModel: Accuracy ~ 89%; ; Precision ~ 88%; Recall ~ 89%\n",
        "  *  Sử dụng Pipeline, RandomizedSearchCV và SVC: Accuracy ~ 86%; Precision ~ 86%; Recall ~ 87%\n",
        "  *  Sử dụng Logistic Regression: Accuracy ~ 82%; ; Precision ~ 82%; Recall ~ 80%\n",
        "  \n",
        "  (Lưu ý: Em chỉ sử dụng Precision với Recall trong marco)\n",
        "\n",
        "==> Trong 3 model trên thì PhoBERT-base có accuracy, macro, weighted f1-score tốt nhất (0.89) và vì các evaluation metric đều xấp xỉ 0.9 nên PhoBERT này hoạt động tốt.\n",
        "\n"
      ]
    }
  ],
  "metadata": {
    "accelerator": "GPU",
    "colab": {
      "provenance": [],
      "collapsed_sections": [
        "T6SoQH47P2M4"
      ]
    },
    "kernelspec": {
      "display_name": "Python 3",
      "name": "python3"
    },
    "language_info": {
      "name": "python"
    },
    "widgets": {
      "application/vnd.jupyter.widget-state+json": {
        "bc3d2b8bff6b46558752f89caf8f12e3": {
          "model_module": "@jupyter-widgets/controls",
          "model_name": "HBoxModel",
          "model_module_version": "1.5.0",
          "state": {
            "_dom_classes": [],
            "_model_module": "@jupyter-widgets/controls",
            "_model_module_version": "1.5.0",
            "_model_name": "HBoxModel",
            "_view_count": null,
            "_view_module": "@jupyter-widgets/controls",
            "_view_module_version": "1.5.0",
            "_view_name": "HBoxView",
            "box_style": "",
            "children": [
              "IPY_MODEL_888f76c332a14a91bd0c7cfd62f2b51c",
              "IPY_MODEL_b2209f365ceb4705997cca40eab3ba5c",
              "IPY_MODEL_e4f871e15b6543dba5e5c4e2e2f0a200"
            ],
            "layout": "IPY_MODEL_bd7ab503029d4c22affddf48785fcdda"
          }
        },
        "888f76c332a14a91bd0c7cfd62f2b51c": {
          "model_module": "@jupyter-widgets/controls",
          "model_name": "HTMLModel",
          "model_module_version": "1.5.0",
          "state": {
            "_dom_classes": [],
            "_model_module": "@jupyter-widgets/controls",
            "_model_module_version": "1.5.0",
            "_model_name": "HTMLModel",
            "_view_count": null,
            "_view_module": "@jupyter-widgets/controls",
            "_view_module_version": "1.5.0",
            "_view_name": "HTMLView",
            "description": "",
            "description_tooltip": null,
            "layout": "IPY_MODEL_5ca2856eafcd47c19b4657738c935d2e",
            "placeholder": "​",
            "style": "IPY_MODEL_4d6a7c211db744d383aa5d4406b0cbee",
            "value": "Downloading (…)lve/main/config.json: 100%"
          }
        },
        "b2209f365ceb4705997cca40eab3ba5c": {
          "model_module": "@jupyter-widgets/controls",
          "model_name": "FloatProgressModel",
          "model_module_version": "1.5.0",
          "state": {
            "_dom_classes": [],
            "_model_module": "@jupyter-widgets/controls",
            "_model_module_version": "1.5.0",
            "_model_name": "FloatProgressModel",
            "_view_count": null,
            "_view_module": "@jupyter-widgets/controls",
            "_view_module_version": "1.5.0",
            "_view_name": "ProgressView",
            "bar_style": "success",
            "description": "",
            "description_tooltip": null,
            "layout": "IPY_MODEL_7d31852315794077aba7755ff1b2fb3d",
            "max": 557,
            "min": 0,
            "orientation": "horizontal",
            "style": "IPY_MODEL_5f2b79ab40de43f6baecca83032d5497",
            "value": 557
          }
        },
        "e4f871e15b6543dba5e5c4e2e2f0a200": {
          "model_module": "@jupyter-widgets/controls",
          "model_name": "HTMLModel",
          "model_module_version": "1.5.0",
          "state": {
            "_dom_classes": [],
            "_model_module": "@jupyter-widgets/controls",
            "_model_module_version": "1.5.0",
            "_model_name": "HTMLModel",
            "_view_count": null,
            "_view_module": "@jupyter-widgets/controls",
            "_view_module_version": "1.5.0",
            "_view_name": "HTMLView",
            "description": "",
            "description_tooltip": null,
            "layout": "IPY_MODEL_2571ac03ab5a4aeda3e2b98e96c9dd7b",
            "placeholder": "​",
            "style": "IPY_MODEL_6294253ddc5c485bbd75e2c9d418e331",
            "value": " 557/557 [00:00&lt;00:00, 21.8kB/s]"
          }
        },
        "bd7ab503029d4c22affddf48785fcdda": {
          "model_module": "@jupyter-widgets/base",
          "model_name": "LayoutModel",
          "model_module_version": "1.2.0",
          "state": {
            "_model_module": "@jupyter-widgets/base",
            "_model_module_version": "1.2.0",
            "_model_name": "LayoutModel",
            "_view_count": null,
            "_view_module": "@jupyter-widgets/base",
            "_view_module_version": "1.2.0",
            "_view_name": "LayoutView",
            "align_content": null,
            "align_items": null,
            "align_self": null,
            "border": null,
            "bottom": null,
            "display": null,
            "flex": null,
            "flex_flow": null,
            "grid_area": null,
            "grid_auto_columns": null,
            "grid_auto_flow": null,
            "grid_auto_rows": null,
            "grid_column": null,
            "grid_gap": null,
            "grid_row": null,
            "grid_template_areas": null,
            "grid_template_columns": null,
            "grid_template_rows": null,
            "height": null,
            "justify_content": null,
            "justify_items": null,
            "left": null,
            "margin": null,
            "max_height": null,
            "max_width": null,
            "min_height": null,
            "min_width": null,
            "object_fit": null,
            "object_position": null,
            "order": null,
            "overflow": null,
            "overflow_x": null,
            "overflow_y": null,
            "padding": null,
            "right": null,
            "top": null,
            "visibility": null,
            "width": null
          }
        },
        "5ca2856eafcd47c19b4657738c935d2e": {
          "model_module": "@jupyter-widgets/base",
          "model_name": "LayoutModel",
          "model_module_version": "1.2.0",
          "state": {
            "_model_module": "@jupyter-widgets/base",
            "_model_module_version": "1.2.0",
            "_model_name": "LayoutModel",
            "_view_count": null,
            "_view_module": "@jupyter-widgets/base",
            "_view_module_version": "1.2.0",
            "_view_name": "LayoutView",
            "align_content": null,
            "align_items": null,
            "align_self": null,
            "border": null,
            "bottom": null,
            "display": null,
            "flex": null,
            "flex_flow": null,
            "grid_area": null,
            "grid_auto_columns": null,
            "grid_auto_flow": null,
            "grid_auto_rows": null,
            "grid_column": null,
            "grid_gap": null,
            "grid_row": null,
            "grid_template_areas": null,
            "grid_template_columns": null,
            "grid_template_rows": null,
            "height": null,
            "justify_content": null,
            "justify_items": null,
            "left": null,
            "margin": null,
            "max_height": null,
            "max_width": null,
            "min_height": null,
            "min_width": null,
            "object_fit": null,
            "object_position": null,
            "order": null,
            "overflow": null,
            "overflow_x": null,
            "overflow_y": null,
            "padding": null,
            "right": null,
            "top": null,
            "visibility": null,
            "width": null
          }
        },
        "4d6a7c211db744d383aa5d4406b0cbee": {
          "model_module": "@jupyter-widgets/controls",
          "model_name": "DescriptionStyleModel",
          "model_module_version": "1.5.0",
          "state": {
            "_model_module": "@jupyter-widgets/controls",
            "_model_module_version": "1.5.0",
            "_model_name": "DescriptionStyleModel",
            "_view_count": null,
            "_view_module": "@jupyter-widgets/base",
            "_view_module_version": "1.2.0",
            "_view_name": "StyleView",
            "description_width": ""
          }
        },
        "7d31852315794077aba7755ff1b2fb3d": {
          "model_module": "@jupyter-widgets/base",
          "model_name": "LayoutModel",
          "model_module_version": "1.2.0",
          "state": {
            "_model_module": "@jupyter-widgets/base",
            "_model_module_version": "1.2.0",
            "_model_name": "LayoutModel",
            "_view_count": null,
            "_view_module": "@jupyter-widgets/base",
            "_view_module_version": "1.2.0",
            "_view_name": "LayoutView",
            "align_content": null,
            "align_items": null,
            "align_self": null,
            "border": null,
            "bottom": null,
            "display": null,
            "flex": null,
            "flex_flow": null,
            "grid_area": null,
            "grid_auto_columns": null,
            "grid_auto_flow": null,
            "grid_auto_rows": null,
            "grid_column": null,
            "grid_gap": null,
            "grid_row": null,
            "grid_template_areas": null,
            "grid_template_columns": null,
            "grid_template_rows": null,
            "height": null,
            "justify_content": null,
            "justify_items": null,
            "left": null,
            "margin": null,
            "max_height": null,
            "max_width": null,
            "min_height": null,
            "min_width": null,
            "object_fit": null,
            "object_position": null,
            "order": null,
            "overflow": null,
            "overflow_x": null,
            "overflow_y": null,
            "padding": null,
            "right": null,
            "top": null,
            "visibility": null,
            "width": null
          }
        },
        "5f2b79ab40de43f6baecca83032d5497": {
          "model_module": "@jupyter-widgets/controls",
          "model_name": "ProgressStyleModel",
          "model_module_version": "1.5.0",
          "state": {
            "_model_module": "@jupyter-widgets/controls",
            "_model_module_version": "1.5.0",
            "_model_name": "ProgressStyleModel",
            "_view_count": null,
            "_view_module": "@jupyter-widgets/base",
            "_view_module_version": "1.2.0",
            "_view_name": "StyleView",
            "bar_color": null,
            "description_width": ""
          }
        },
        "2571ac03ab5a4aeda3e2b98e96c9dd7b": {
          "model_module": "@jupyter-widgets/base",
          "model_name": "LayoutModel",
          "model_module_version": "1.2.0",
          "state": {
            "_model_module": "@jupyter-widgets/base",
            "_model_module_version": "1.2.0",
            "_model_name": "LayoutModel",
            "_view_count": null,
            "_view_module": "@jupyter-widgets/base",
            "_view_module_version": "1.2.0",
            "_view_name": "LayoutView",
            "align_content": null,
            "align_items": null,
            "align_self": null,
            "border": null,
            "bottom": null,
            "display": null,
            "flex": null,
            "flex_flow": null,
            "grid_area": null,
            "grid_auto_columns": null,
            "grid_auto_flow": null,
            "grid_auto_rows": null,
            "grid_column": null,
            "grid_gap": null,
            "grid_row": null,
            "grid_template_areas": null,
            "grid_template_columns": null,
            "grid_template_rows": null,
            "height": null,
            "justify_content": null,
            "justify_items": null,
            "left": null,
            "margin": null,
            "max_height": null,
            "max_width": null,
            "min_height": null,
            "min_width": null,
            "object_fit": null,
            "object_position": null,
            "order": null,
            "overflow": null,
            "overflow_x": null,
            "overflow_y": null,
            "padding": null,
            "right": null,
            "top": null,
            "visibility": null,
            "width": null
          }
        },
        "6294253ddc5c485bbd75e2c9d418e331": {
          "model_module": "@jupyter-widgets/controls",
          "model_name": "DescriptionStyleModel",
          "model_module_version": "1.5.0",
          "state": {
            "_model_module": "@jupyter-widgets/controls",
            "_model_module_version": "1.5.0",
            "_model_name": "DescriptionStyleModel",
            "_view_count": null,
            "_view_module": "@jupyter-widgets/base",
            "_view_module_version": "1.2.0",
            "_view_name": "StyleView",
            "description_width": ""
          }
        },
        "ca953b920ad34e3fa70fec164e557a06": {
          "model_module": "@jupyter-widgets/controls",
          "model_name": "HBoxModel",
          "model_module_version": "1.5.0",
          "state": {
            "_dom_classes": [],
            "_model_module": "@jupyter-widgets/controls",
            "_model_module_version": "1.5.0",
            "_model_name": "HBoxModel",
            "_view_count": null,
            "_view_module": "@jupyter-widgets/controls",
            "_view_module_version": "1.5.0",
            "_view_name": "HBoxView",
            "box_style": "",
            "children": [
              "IPY_MODEL_3623e5167b354ca8a58ecdfa9864858d",
              "IPY_MODEL_3059780391bd43bebd900a885048ecf6",
              "IPY_MODEL_2fa95bc31b0148f4b1333c57f5e06dd1"
            ],
            "layout": "IPY_MODEL_eaf49e275175407a8990ec70771a937d"
          }
        },
        "3623e5167b354ca8a58ecdfa9864858d": {
          "model_module": "@jupyter-widgets/controls",
          "model_name": "HTMLModel",
          "model_module_version": "1.5.0",
          "state": {
            "_dom_classes": [],
            "_model_module": "@jupyter-widgets/controls",
            "_model_module_version": "1.5.0",
            "_model_name": "HTMLModel",
            "_view_count": null,
            "_view_module": "@jupyter-widgets/controls",
            "_view_module_version": "1.5.0",
            "_view_name": "HTMLView",
            "description": "",
            "description_tooltip": null,
            "layout": "IPY_MODEL_cf2f0779c96c4091bf5d500e6d8824fd",
            "placeholder": "​",
            "style": "IPY_MODEL_58d2ddc2a4ba4e8a8cc29f32514801e6",
            "value": "Downloading (…)solve/main/vocab.txt: 100%"
          }
        },
        "3059780391bd43bebd900a885048ecf6": {
          "model_module": "@jupyter-widgets/controls",
          "model_name": "FloatProgressModel",
          "model_module_version": "1.5.0",
          "state": {
            "_dom_classes": [],
            "_model_module": "@jupyter-widgets/controls",
            "_model_module_version": "1.5.0",
            "_model_name": "FloatProgressModel",
            "_view_count": null,
            "_view_module": "@jupyter-widgets/controls",
            "_view_module_version": "1.5.0",
            "_view_name": "ProgressView",
            "bar_style": "success",
            "description": "",
            "description_tooltip": null,
            "layout": "IPY_MODEL_071ad4a91afc41d3a6984742e375ca0d",
            "max": 895321,
            "min": 0,
            "orientation": "horizontal",
            "style": "IPY_MODEL_41cc83a570bb424cb29b0b34d6ff2aec",
            "value": 895321
          }
        },
        "2fa95bc31b0148f4b1333c57f5e06dd1": {
          "model_module": "@jupyter-widgets/controls",
          "model_name": "HTMLModel",
          "model_module_version": "1.5.0",
          "state": {
            "_dom_classes": [],
            "_model_module": "@jupyter-widgets/controls",
            "_model_module_version": "1.5.0",
            "_model_name": "HTMLModel",
            "_view_count": null,
            "_view_module": "@jupyter-widgets/controls",
            "_view_module_version": "1.5.0",
            "_view_name": "HTMLView",
            "description": "",
            "description_tooltip": null,
            "layout": "IPY_MODEL_dd9f660d32564bc5b2a11a01830f9a8d",
            "placeholder": "​",
            "style": "IPY_MODEL_ca40361ceeb44599bb2674dc4115d750",
            "value": " 895k/895k [00:00&lt;00:00, 1.41MB/s]"
          }
        },
        "eaf49e275175407a8990ec70771a937d": {
          "model_module": "@jupyter-widgets/base",
          "model_name": "LayoutModel",
          "model_module_version": "1.2.0",
          "state": {
            "_model_module": "@jupyter-widgets/base",
            "_model_module_version": "1.2.0",
            "_model_name": "LayoutModel",
            "_view_count": null,
            "_view_module": "@jupyter-widgets/base",
            "_view_module_version": "1.2.0",
            "_view_name": "LayoutView",
            "align_content": null,
            "align_items": null,
            "align_self": null,
            "border": null,
            "bottom": null,
            "display": null,
            "flex": null,
            "flex_flow": null,
            "grid_area": null,
            "grid_auto_columns": null,
            "grid_auto_flow": null,
            "grid_auto_rows": null,
            "grid_column": null,
            "grid_gap": null,
            "grid_row": null,
            "grid_template_areas": null,
            "grid_template_columns": null,
            "grid_template_rows": null,
            "height": null,
            "justify_content": null,
            "justify_items": null,
            "left": null,
            "margin": null,
            "max_height": null,
            "max_width": null,
            "min_height": null,
            "min_width": null,
            "object_fit": null,
            "object_position": null,
            "order": null,
            "overflow": null,
            "overflow_x": null,
            "overflow_y": null,
            "padding": null,
            "right": null,
            "top": null,
            "visibility": null,
            "width": null
          }
        },
        "cf2f0779c96c4091bf5d500e6d8824fd": {
          "model_module": "@jupyter-widgets/base",
          "model_name": "LayoutModel",
          "model_module_version": "1.2.0",
          "state": {
            "_model_module": "@jupyter-widgets/base",
            "_model_module_version": "1.2.0",
            "_model_name": "LayoutModel",
            "_view_count": null,
            "_view_module": "@jupyter-widgets/base",
            "_view_module_version": "1.2.0",
            "_view_name": "LayoutView",
            "align_content": null,
            "align_items": null,
            "align_self": null,
            "border": null,
            "bottom": null,
            "display": null,
            "flex": null,
            "flex_flow": null,
            "grid_area": null,
            "grid_auto_columns": null,
            "grid_auto_flow": null,
            "grid_auto_rows": null,
            "grid_column": null,
            "grid_gap": null,
            "grid_row": null,
            "grid_template_areas": null,
            "grid_template_columns": null,
            "grid_template_rows": null,
            "height": null,
            "justify_content": null,
            "justify_items": null,
            "left": null,
            "margin": null,
            "max_height": null,
            "max_width": null,
            "min_height": null,
            "min_width": null,
            "object_fit": null,
            "object_position": null,
            "order": null,
            "overflow": null,
            "overflow_x": null,
            "overflow_y": null,
            "padding": null,
            "right": null,
            "top": null,
            "visibility": null,
            "width": null
          }
        },
        "58d2ddc2a4ba4e8a8cc29f32514801e6": {
          "model_module": "@jupyter-widgets/controls",
          "model_name": "DescriptionStyleModel",
          "model_module_version": "1.5.0",
          "state": {
            "_model_module": "@jupyter-widgets/controls",
            "_model_module_version": "1.5.0",
            "_model_name": "DescriptionStyleModel",
            "_view_count": null,
            "_view_module": "@jupyter-widgets/base",
            "_view_module_version": "1.2.0",
            "_view_name": "StyleView",
            "description_width": ""
          }
        },
        "071ad4a91afc41d3a6984742e375ca0d": {
          "model_module": "@jupyter-widgets/base",
          "model_name": "LayoutModel",
          "model_module_version": "1.2.0",
          "state": {
            "_model_module": "@jupyter-widgets/base",
            "_model_module_version": "1.2.0",
            "_model_name": "LayoutModel",
            "_view_count": null,
            "_view_module": "@jupyter-widgets/base",
            "_view_module_version": "1.2.0",
            "_view_name": "LayoutView",
            "align_content": null,
            "align_items": null,
            "align_self": null,
            "border": null,
            "bottom": null,
            "display": null,
            "flex": null,
            "flex_flow": null,
            "grid_area": null,
            "grid_auto_columns": null,
            "grid_auto_flow": null,
            "grid_auto_rows": null,
            "grid_column": null,
            "grid_gap": null,
            "grid_row": null,
            "grid_template_areas": null,
            "grid_template_columns": null,
            "grid_template_rows": null,
            "height": null,
            "justify_content": null,
            "justify_items": null,
            "left": null,
            "margin": null,
            "max_height": null,
            "max_width": null,
            "min_height": null,
            "min_width": null,
            "object_fit": null,
            "object_position": null,
            "order": null,
            "overflow": null,
            "overflow_x": null,
            "overflow_y": null,
            "padding": null,
            "right": null,
            "top": null,
            "visibility": null,
            "width": null
          }
        },
        "41cc83a570bb424cb29b0b34d6ff2aec": {
          "model_module": "@jupyter-widgets/controls",
          "model_name": "ProgressStyleModel",
          "model_module_version": "1.5.0",
          "state": {
            "_model_module": "@jupyter-widgets/controls",
            "_model_module_version": "1.5.0",
            "_model_name": "ProgressStyleModel",
            "_view_count": null,
            "_view_module": "@jupyter-widgets/base",
            "_view_module_version": "1.2.0",
            "_view_name": "StyleView",
            "bar_color": null,
            "description_width": ""
          }
        },
        "dd9f660d32564bc5b2a11a01830f9a8d": {
          "model_module": "@jupyter-widgets/base",
          "model_name": "LayoutModel",
          "model_module_version": "1.2.0",
          "state": {
            "_model_module": "@jupyter-widgets/base",
            "_model_module_version": "1.2.0",
            "_model_name": "LayoutModel",
            "_view_count": null,
            "_view_module": "@jupyter-widgets/base",
            "_view_module_version": "1.2.0",
            "_view_name": "LayoutView",
            "align_content": null,
            "align_items": null,
            "align_self": null,
            "border": null,
            "bottom": null,
            "display": null,
            "flex": null,
            "flex_flow": null,
            "grid_area": null,
            "grid_auto_columns": null,
            "grid_auto_flow": null,
            "grid_auto_rows": null,
            "grid_column": null,
            "grid_gap": null,
            "grid_row": null,
            "grid_template_areas": null,
            "grid_template_columns": null,
            "grid_template_rows": null,
            "height": null,
            "justify_content": null,
            "justify_items": null,
            "left": null,
            "margin": null,
            "max_height": null,
            "max_width": null,
            "min_height": null,
            "min_width": null,
            "object_fit": null,
            "object_position": null,
            "order": null,
            "overflow": null,
            "overflow_x": null,
            "overflow_y": null,
            "padding": null,
            "right": null,
            "top": null,
            "visibility": null,
            "width": null
          }
        },
        "ca40361ceeb44599bb2674dc4115d750": {
          "model_module": "@jupyter-widgets/controls",
          "model_name": "DescriptionStyleModel",
          "model_module_version": "1.5.0",
          "state": {
            "_model_module": "@jupyter-widgets/controls",
            "_model_module_version": "1.5.0",
            "_model_name": "DescriptionStyleModel",
            "_view_count": null,
            "_view_module": "@jupyter-widgets/base",
            "_view_module_version": "1.2.0",
            "_view_name": "StyleView",
            "description_width": ""
          }
        },
        "1631c6827dd147b6acee613c4a0f683f": {
          "model_module": "@jupyter-widgets/controls",
          "model_name": "HBoxModel",
          "model_module_version": "1.5.0",
          "state": {
            "_dom_classes": [],
            "_model_module": "@jupyter-widgets/controls",
            "_model_module_version": "1.5.0",
            "_model_name": "HBoxModel",
            "_view_count": null,
            "_view_module": "@jupyter-widgets/controls",
            "_view_module_version": "1.5.0",
            "_view_name": "HBoxView",
            "box_style": "",
            "children": [
              "IPY_MODEL_deb6e615e05a476683ad83f7f585bf42",
              "IPY_MODEL_8aaa64aab53f4326afc50f61c099848f",
              "IPY_MODEL_e3bb23034ed841cd912190cc5026297e"
            ],
            "layout": "IPY_MODEL_dea3ac32b6a740839a9837f0541e2332"
          }
        },
        "deb6e615e05a476683ad83f7f585bf42": {
          "model_module": "@jupyter-widgets/controls",
          "model_name": "HTMLModel",
          "model_module_version": "1.5.0",
          "state": {
            "_dom_classes": [],
            "_model_module": "@jupyter-widgets/controls",
            "_model_module_version": "1.5.0",
            "_model_name": "HTMLModel",
            "_view_count": null,
            "_view_module": "@jupyter-widgets/controls",
            "_view_module_version": "1.5.0",
            "_view_name": "HTMLView",
            "description": "",
            "description_tooltip": null,
            "layout": "IPY_MODEL_edbafaa1ff7a42b4afb238b982cd7310",
            "placeholder": "​",
            "style": "IPY_MODEL_a8ce716ca1a343c095911b8ba167496e",
            "value": "Downloading (…)solve/main/bpe.codes: 100%"
          }
        },
        "8aaa64aab53f4326afc50f61c099848f": {
          "model_module": "@jupyter-widgets/controls",
          "model_name": "FloatProgressModel",
          "model_module_version": "1.5.0",
          "state": {
            "_dom_classes": [],
            "_model_module": "@jupyter-widgets/controls",
            "_model_module_version": "1.5.0",
            "_model_name": "FloatProgressModel",
            "_view_count": null,
            "_view_module": "@jupyter-widgets/controls",
            "_view_module_version": "1.5.0",
            "_view_name": "ProgressView",
            "bar_style": "success",
            "description": "",
            "description_tooltip": null,
            "layout": "IPY_MODEL_10d26e1f26a74bf4b5523150a6f321ae",
            "max": 1135173,
            "min": 0,
            "orientation": "horizontal",
            "style": "IPY_MODEL_419b8b3f632e4309993f9de80d01937e",
            "value": 1135173
          }
        },
        "e3bb23034ed841cd912190cc5026297e": {
          "model_module": "@jupyter-widgets/controls",
          "model_name": "HTMLModel",
          "model_module_version": "1.5.0",
          "state": {
            "_dom_classes": [],
            "_model_module": "@jupyter-widgets/controls",
            "_model_module_version": "1.5.0",
            "_model_name": "HTMLModel",
            "_view_count": null,
            "_view_module": "@jupyter-widgets/controls",
            "_view_module_version": "1.5.0",
            "_view_name": "HTMLView",
            "description": "",
            "description_tooltip": null,
            "layout": "IPY_MODEL_e7c9a414f5324fb89f391f4b6f1323cb",
            "placeholder": "​",
            "style": "IPY_MODEL_0df6bdf209b1445a9af66cbd25b1fc51",
            "value": " 1.14M/1.14M [00:00&lt;00:00, 2.67MB/s]"
          }
        },
        "dea3ac32b6a740839a9837f0541e2332": {
          "model_module": "@jupyter-widgets/base",
          "model_name": "LayoutModel",
          "model_module_version": "1.2.0",
          "state": {
            "_model_module": "@jupyter-widgets/base",
            "_model_module_version": "1.2.0",
            "_model_name": "LayoutModel",
            "_view_count": null,
            "_view_module": "@jupyter-widgets/base",
            "_view_module_version": "1.2.0",
            "_view_name": "LayoutView",
            "align_content": null,
            "align_items": null,
            "align_self": null,
            "border": null,
            "bottom": null,
            "display": null,
            "flex": null,
            "flex_flow": null,
            "grid_area": null,
            "grid_auto_columns": null,
            "grid_auto_flow": null,
            "grid_auto_rows": null,
            "grid_column": null,
            "grid_gap": null,
            "grid_row": null,
            "grid_template_areas": null,
            "grid_template_columns": null,
            "grid_template_rows": null,
            "height": null,
            "justify_content": null,
            "justify_items": null,
            "left": null,
            "margin": null,
            "max_height": null,
            "max_width": null,
            "min_height": null,
            "min_width": null,
            "object_fit": null,
            "object_position": null,
            "order": null,
            "overflow": null,
            "overflow_x": null,
            "overflow_y": null,
            "padding": null,
            "right": null,
            "top": null,
            "visibility": null,
            "width": null
          }
        },
        "edbafaa1ff7a42b4afb238b982cd7310": {
          "model_module": "@jupyter-widgets/base",
          "model_name": "LayoutModel",
          "model_module_version": "1.2.0",
          "state": {
            "_model_module": "@jupyter-widgets/base",
            "_model_module_version": "1.2.0",
            "_model_name": "LayoutModel",
            "_view_count": null,
            "_view_module": "@jupyter-widgets/base",
            "_view_module_version": "1.2.0",
            "_view_name": "LayoutView",
            "align_content": null,
            "align_items": null,
            "align_self": null,
            "border": null,
            "bottom": null,
            "display": null,
            "flex": null,
            "flex_flow": null,
            "grid_area": null,
            "grid_auto_columns": null,
            "grid_auto_flow": null,
            "grid_auto_rows": null,
            "grid_column": null,
            "grid_gap": null,
            "grid_row": null,
            "grid_template_areas": null,
            "grid_template_columns": null,
            "grid_template_rows": null,
            "height": null,
            "justify_content": null,
            "justify_items": null,
            "left": null,
            "margin": null,
            "max_height": null,
            "max_width": null,
            "min_height": null,
            "min_width": null,
            "object_fit": null,
            "object_position": null,
            "order": null,
            "overflow": null,
            "overflow_x": null,
            "overflow_y": null,
            "padding": null,
            "right": null,
            "top": null,
            "visibility": null,
            "width": null
          }
        },
        "a8ce716ca1a343c095911b8ba167496e": {
          "model_module": "@jupyter-widgets/controls",
          "model_name": "DescriptionStyleModel",
          "model_module_version": "1.5.0",
          "state": {
            "_model_module": "@jupyter-widgets/controls",
            "_model_module_version": "1.5.0",
            "_model_name": "DescriptionStyleModel",
            "_view_count": null,
            "_view_module": "@jupyter-widgets/base",
            "_view_module_version": "1.2.0",
            "_view_name": "StyleView",
            "description_width": ""
          }
        },
        "10d26e1f26a74bf4b5523150a6f321ae": {
          "model_module": "@jupyter-widgets/base",
          "model_name": "LayoutModel",
          "model_module_version": "1.2.0",
          "state": {
            "_model_module": "@jupyter-widgets/base",
            "_model_module_version": "1.2.0",
            "_model_name": "LayoutModel",
            "_view_count": null,
            "_view_module": "@jupyter-widgets/base",
            "_view_module_version": "1.2.0",
            "_view_name": "LayoutView",
            "align_content": null,
            "align_items": null,
            "align_self": null,
            "border": null,
            "bottom": null,
            "display": null,
            "flex": null,
            "flex_flow": null,
            "grid_area": null,
            "grid_auto_columns": null,
            "grid_auto_flow": null,
            "grid_auto_rows": null,
            "grid_column": null,
            "grid_gap": null,
            "grid_row": null,
            "grid_template_areas": null,
            "grid_template_columns": null,
            "grid_template_rows": null,
            "height": null,
            "justify_content": null,
            "justify_items": null,
            "left": null,
            "margin": null,
            "max_height": null,
            "max_width": null,
            "min_height": null,
            "min_width": null,
            "object_fit": null,
            "object_position": null,
            "order": null,
            "overflow": null,
            "overflow_x": null,
            "overflow_y": null,
            "padding": null,
            "right": null,
            "top": null,
            "visibility": null,
            "width": null
          }
        },
        "419b8b3f632e4309993f9de80d01937e": {
          "model_module": "@jupyter-widgets/controls",
          "model_name": "ProgressStyleModel",
          "model_module_version": "1.5.0",
          "state": {
            "_model_module": "@jupyter-widgets/controls",
            "_model_module_version": "1.5.0",
            "_model_name": "ProgressStyleModel",
            "_view_count": null,
            "_view_module": "@jupyter-widgets/base",
            "_view_module_version": "1.2.0",
            "_view_name": "StyleView",
            "bar_color": null,
            "description_width": ""
          }
        },
        "e7c9a414f5324fb89f391f4b6f1323cb": {
          "model_module": "@jupyter-widgets/base",
          "model_name": "LayoutModel",
          "model_module_version": "1.2.0",
          "state": {
            "_model_module": "@jupyter-widgets/base",
            "_model_module_version": "1.2.0",
            "_model_name": "LayoutModel",
            "_view_count": null,
            "_view_module": "@jupyter-widgets/base",
            "_view_module_version": "1.2.0",
            "_view_name": "LayoutView",
            "align_content": null,
            "align_items": null,
            "align_self": null,
            "border": null,
            "bottom": null,
            "display": null,
            "flex": null,
            "flex_flow": null,
            "grid_area": null,
            "grid_auto_columns": null,
            "grid_auto_flow": null,
            "grid_auto_rows": null,
            "grid_column": null,
            "grid_gap": null,
            "grid_row": null,
            "grid_template_areas": null,
            "grid_template_columns": null,
            "grid_template_rows": null,
            "height": null,
            "justify_content": null,
            "justify_items": null,
            "left": null,
            "margin": null,
            "max_height": null,
            "max_width": null,
            "min_height": null,
            "min_width": null,
            "object_fit": null,
            "object_position": null,
            "order": null,
            "overflow": null,
            "overflow_x": null,
            "overflow_y": null,
            "padding": null,
            "right": null,
            "top": null,
            "visibility": null,
            "width": null
          }
        },
        "0df6bdf209b1445a9af66cbd25b1fc51": {
          "model_module": "@jupyter-widgets/controls",
          "model_name": "DescriptionStyleModel",
          "model_module_version": "1.5.0",
          "state": {
            "_model_module": "@jupyter-widgets/controls",
            "_model_module_version": "1.5.0",
            "_model_name": "DescriptionStyleModel",
            "_view_count": null,
            "_view_module": "@jupyter-widgets/base",
            "_view_module_version": "1.2.0",
            "_view_name": "StyleView",
            "description_width": ""
          }
        }
      }
    }
  },
  "nbformat": 4,
  "nbformat_minor": 0
}